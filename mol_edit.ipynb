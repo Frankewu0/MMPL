{
 "cells": [
  {
   "cell_type": "code",
   "execution_count": 1,
   "id": "ca546431-ced6-4d66-82d0-2e9e566d7abd",
   "metadata": {
    "tags": []
   },
   "outputs": [
    {
     "name": "stderr",
     "output_type": "stream",
     "text": [
      "/home/jovyan/.conda/fcb/lib/python3.8/site-packages/tqdm/auto.py:21: TqdmWarning: IProgress not found. Please update jupyter and ipywidgets. See https://ipywidgets.readthedocs.io/en/stable/user_install.html\n",
      "  from .autonotebook import tqdm as notebook_tqdm\n"
     ]
    },
    {
     "name": "stdout",
     "output_type": "stream",
     "text": [
      "[2025-04-17 04:16:49,576] [INFO] [real_accelerator.py:219:get_accelerator] Setting ds_accelerator to cuda (auto detect)\n",
      "Warning: The cache directory for DeepSpeed Triton autotune, /home/jovyan/.triton/autotune, appears to be on an NFS system. While this is generally acceptable, if you experience slowdowns or hanging when DeepSpeed exits, it is recommended to set the TRITON_CACHE_DIR environment variable to a non-NFS path.\n"
     ]
    },
    {
     "name": "stderr",
     "output_type": "stream",
     "text": [
      "/home/jovyan/.conda/fcb/compiler_compat/ld: cannot find -laio: No such file or directory\n",
      "collect2: error: ld returned 1 exit status\n",
      "/home/jovyan/.conda/fcb/compiler_compat/ld: cannot find -laio: No such file or directory\n",
      "collect2: error: ld returned 1 exit status\n",
      "/home/jovyan/.conda/fcb/lib/python3.8/site-packages/apex/pyprof/__init__.py:5: FutureWarning: pyprof will be removed by the end of June, 2022\n",
      "  warnings.warn(\"pyprof will be removed by the end of June, 2022\", FutureWarning)\n",
      "WARNING:root:No normalization for SPS\n",
      "WARNING:root:No normalization for BCUT2D_MWHI\n",
      "WARNING:root:No normalization for BCUT2D_MWLOW\n",
      "WARNING:root:No normalization for BCUT2D_CHGHI\n",
      "WARNING:root:No normalization for BCUT2D_CHGLO\n",
      "WARNING:root:No normalization for BCUT2D_LOGPHI\n",
      "WARNING:root:No normalization for BCUT2D_LOGPLOW\n",
      "WARNING:root:No normalization for BCUT2D_MRHI\n",
      "WARNING:root:No normalization for BCUT2D_MRLOW\n",
      "WARNING:root:No normalization for AvgIpc\n"
     ]
    },
    {
     "name": "stdout",
     "output_type": "stream",
     "text": [
      "using world size: 1 and model-parallel size: 1 \n",
      "using torch.float32 for parameters ...\n",
      "-------------------- arguments --------------------\n",
      "  adam_beta1 ...................... 0.9\n",
      "  adam_beta2 ...................... 0.999\n",
      "  adam_eps ........................ 1e-08\n",
      "  adlr_autoresume ................. False\n",
      "  adlr_autoresume_interval ........ 1000\n",
      "  apply_query_key_layer_scaling ... False\n",
      "  apply_residual_connection_post_layernorm  False\n",
      "  attention_dropout ............... 0.1\n",
      "  attention_softmax_in_fp32 ....... False\n",
      "  batch_size ...................... None\n",
      "  bert_load ....................... None\n",
      "  bias_dropout_fusion ............. False\n",
      "  bias_gelu_fusion ................ False\n",
      "  block_data_path ................. None\n",
      "  checkpoint_activations .......... False\n",
      "  checkpoint_in_cpu ............... False\n",
      "  checkpoint_num_layers ........... 1\n",
      "  clip_grad ....................... 1.0\n",
      "  contigious_checkpointing ........ False\n",
      "  cpu_optimizer ................... False\n",
      "  cpu_torch_adam .................. False\n",
      "  data_impl ....................... infer\n",
      "  data_path ....................... None\n",
      "  dataset_path .................... None\n",
      "  DDP_impl ........................ local\n",
      "  deepscale ....................... False\n",
      "  deepscale_config ................ None\n",
      "  deepspeed ....................... False\n",
      "  deepspeed_activation_checkpointing  False\n",
      "  deepspeed_config ................ None\n",
      "  distribute_checkpointed_activations  False\n",
      "  distributed_backend ............. nccl\n",
      "  dynamic_loss_scale .............. True\n",
      "  eod_mask_loss ................... False\n",
      "  eval_interval ................... 1000\n",
      "  eval_iters ...................... 100\n",
      "  exit_interval ................... None\n",
      "  faiss_use_gpu ................... False\n",
      "  finetune ........................ False\n",
      "  fp16 ............................ False\n",
      "  fp16_lm_cross_entropy ........... False\n",
      "  fp32_allreduce .................. False\n",
      "  gas ............................. 1\n",
      "  hidden_dropout .................. 0.1\n",
      "  hidden_size ..................... 256\n",
      "  hysteresis ...................... 2\n",
      "  ict_head_size ................... None\n",
      "  ict_load ........................ None\n",
      "  indexer_batch_size .............. 128\n",
      "  indexer_log_interval ............ 1000\n",
      "  init_method_std ................. 0.02\n",
      "  layernorm_epsilon ............... 1e-05\n",
      "  lazy_mpu_init ................... None\n",
      "  load ............................ /home/jovyan/MoleculeSTM/data/pretrained_MegaMolBART/checkpoints\n",
      "  local_rank ...................... None\n",
      "  log_interval .................... 100\n",
      "  loss_scale ...................... None\n",
      "  loss_scale_window ............... 1000\n",
      "  lr .............................. None\n",
      "  lr_decay_iters .................. None\n",
      "  lr_decay_style .................. linear\n",
      "  make_vocab_size_divisible_by .... 128\n",
      "  mask_prob ....................... 0.15\n",
      "  max_position_embeddings ......... 512\n",
      "  merge_file ...................... None\n",
      "  min_lr .......................... 0.0\n",
      "  min_scale ....................... 1\n",
      "  mmap_warmup ..................... False\n",
      "  model_parallel_size ............. 1\n",
      "  no_load_optim ................... False\n",
      "  no_load_rng ..................... False\n",
      "  no_save_optim ................... False\n",
      "  no_save_rng ..................... False\n",
      "  num_attention_heads ............. 8\n",
      "  num_layers ...................... 4\n",
      "  num_unique_layers ............... None\n",
      "  num_workers ..................... 2\n",
      "  onnx_safe ....................... None\n",
      "  openai_gelu ..................... False\n",
      "  override_lr_scheduler ........... False\n",
      "  param_sharing_style ............. grouped\n",
      "  params_dtype .................... torch.float32\n",
      "  partition_activations ........... False\n",
      "  pipe_parallel_size .............. 0\n",
      "  profile_backward ................ False\n",
      "  query_in_block_prob ............. 0.1\n",
      "  rank ............................ 0\n",
      "  report_topk_accuracies .......... []\n",
      "  reset_attention_mask ............ False\n",
      "  reset_position_ids .............. False\n",
      "  save ............................ None\n",
      "  save_interval ................... None\n",
      "  scaled_masked_softmax_fusion .... False\n",
      "  scaled_upper_triang_masked_softmax_fusion  False\n",
      "  seed ............................ 1234\n",
      "  seq_length ...................... None\n",
      "  short_seq_prob .................. 0.1\n",
      "  split ........................... 969, 30, 1\n",
      "  synchronize_each_layer .......... False\n",
      "  tensorboard_dir ................. None\n",
      "  titles_data_path ................ None\n",
      "  tokenizer_type .................. GPT2BPETokenizer\n",
      "  train_iters ..................... None\n",
      "  use_checkpoint_lr_scheduler ..... False\n",
      "  use_cpu_initialization .......... False\n",
      "  use_one_sent_docs ............... False\n",
      "  vocab_file ...................... /home/jovyan/MoleculeSTM/MoleculeSTM/bart_vocab.txt\n",
      "  warmup .......................... 0.01\n",
      "  weight_decay .................... 0.01\n",
      "  world_size ...................... 1\n",
      "  zero_allgather_bucket_size ...... 0.0\n",
      "  zero_contigious_gradients ....... False\n",
      "  zero_reduce_bucket_size ......... 0.0\n",
      "  zero_reduce_scatter ............. False\n",
      "  zero_stage ...................... 1.0\n",
      "---------------- end of arguments ----------------\n",
      "> initializing torch distributed ...\n",
      "> initializing model parallel with size 1\n",
      "> setting random seeds to 1234 ...\n",
      "> initializing model parallel cuda seeds on global rank 0, model parallel rank 0, and data parallel rank 0 with model parallel seed: 3952 and data parallel seed: 1234\n",
      "Loading vocab from /home/jovyan/MoleculeSTM/MoleculeSTM/bart_vocab.txt.\n",
      "Loading from /home/jovyan/MoleculeSTM/data/pretrained_MegaMolBART/checkpoints\n",
      "global rank 0 is loading checkpoint /home/jovyan/MoleculeSTM/data/pretrained_MegaMolBART/checkpoints/iter_0134000/mp_rank_00/model_optim_rng.pt\n",
      "could not find arguments in the checkpoint ...\n",
      "  successfully loaded /home/jovyan/MoleculeSTM/data/pretrained_MegaMolBART/checkpoints/iter_0134000/mp_rank_00/model_optim_rng.pt\n",
      "Loading from pretrained MegaMolBART (/home/jovyan/MoleculeSTM/data/pretrained_MegaMolBART/checkpoints).\n",
      "8.7265625 ,  -3.07421875\n",
      "9.8203125 ,  -3.607421875\n",
      "2.9296875 ,  -0.41259765625\n",
      "4.12109375 ,  -11.09375\n",
      "Mol-text pre-trained weights loaded....\n"
     ]
    }
   ],
   "source": [
    "import sys \n",
    "sys.path.append(\"/home/jovyan/MoleculeSTM\")\n",
    "from MoleculeSTM.models.mega_molbart.mega_mol_bart import MegaMolBART\n",
    "from model_zoo import MLP\n",
    "import torch.nn as nn\n",
    "import torch.nn.functional as F\n",
    "import torch\n",
    "from tqdm import tqdm\n",
    "import math\n",
    "from rdkit.Chem import AllChem, Descriptors\n",
    "sys.path.append(\"/home/jovyan/prompts_learning/KPGT/src/data\")\n",
    "from featurizer import smiles_to_graph\n",
    "import dgl\n",
    "from KPGT.src.data.descriptors.rdNormalizedDescriptors import RDKit2DNormalized\n",
    "st = torch.get_rng_state()\n",
    "torch.set_rng_state(st)\n",
    "\n",
    "def preprocess_batch_light(batch_num, batch_num_target, tensor_data):\n",
    "    batch_num = np.concatenate([[0],batch_num],axis=-1)\n",
    "    cs_num = np.cumsum(batch_num)\n",
    "    add_factors = np.concatenate([[cs_num[i]]*batch_num_target[i] for i in range(len(cs_num)-1)], axis=-1)\n",
    "    return tensor_data + torch.from_numpy(add_factors).reshape(-1,1)\n",
    "\n",
    "\n",
    "vocab_path = \"/home/jovyan/MoleculeSTM/MoleculeSTM/bart_vocab.txt\"\n",
    "MegaMolBART_generation_model_dir=\"/home/jovyan/MoleculeSTM/data/pretrained_MegaMolBART/checkpoints\"\n",
    "MegaMolBART_wrapper = MegaMolBART(vocab_path=vocab_path, input_dir=MegaMolBART_generation_model_dir, output_dir=None)\n",
    "molecule_model = MegaMolBART_wrapper.model\n",
    "print(\"Loading from pretrained MegaMolBART ({}).\".format(MegaMolBART_generation_model_dir))\n",
    "molecule_dim_generation = 256\n",
    "\n",
    "device = \"cuda\" if torch.cuda.is_available() else \"cpu\"\n",
    "from KPGT.src.data.featurizer import Vocab, N_BOND_TYPES, N_ATOM_TYPES\n",
    "from KPGT.src.data.collator_tune import Collator_pretrain\n",
    "from KPGT.src.model_config import config_dict\n",
    "config = config_dict['base']\n",
    "from pharmabench_pipeline import PharmaBenchDataset\n",
    "from KPGT.src.data.featurizer import Vocab, N_BOND_TYPES, N_ATOM_TYPES\n",
    "from KPGT.src.data.collator_tune import Collator_pretrain\n",
    "from KPGT.src.model_config import config_dict\n",
    "config = config_dict['base']\n",
    "\n",
    "vocab = Vocab(N_ATOM_TYPES, N_BOND_TYPES)\n",
    "collator = Collator_pretrain(vocab, max_length=config['path_length'], n_virtual_nodes=2, candi_rate=config['candi_rate'], fp_disturb_rate=config['fp_disturb_rate'], md_disturb_rate=config['md_disturb_rate'])\n",
    "\n",
    "task_mode = \"regression\"\n",
    "task_name = \"logd_reg\"\n",
    "train_dataset = PharmaBenchDataset(task_name, mode=\"train\")\n",
    "from KPGT.src.model.light import LiGhTPredictor as LiGhT\n",
    "kpgt = LiGhT(\n",
    "        d_node_feats=config['d_node_feats'],\n",
    "        d_edge_feats=config['d_edge_feats'],\n",
    "        d_g_feats=config['d_g_feats'],\n",
    "        d_fp_feats=train_dataset.d_fps,\n",
    "        d_md_feats=train_dataset.d_mds,\n",
    "        d_hpath_ratio=config['d_hpath_ratio'],\n",
    "        n_mol_layers=config['n_mol_layers'],\n",
    "        path_length=config['path_length'],\n",
    "        n_heads=config['n_heads'],\n",
    "        n_ffn_dense_layers=config['n_ffn_dense_layers'],\n",
    "        input_drop=0.0,\n",
    "        attn_drop=0.,\n",
    "        feat_drop=0.,\n",
    "        n_node_types=vocab.vocab_size\n",
    "    )# .to(\"cuda\")\n",
    "\n",
    "from model_zoo import MMPL_Finetune_Model\n",
    "model = MMPL_Finetune_Model(kpgt).to(device)\n",
    "model.eval()\n",
    "\n",
    "# ckpt = \"/home/jovyan/prompts_learning/ft_weight/logd_reg_Epoch110_val_mae_0.40885_rmse_0.60321.pth\"\n",
    "# ckpt = \"/home/jovyan/prompts_learning/ft_weight/ppb_reg_Epoch105_val_mae_0.07918_rmse_0.15615.pth\"\n",
    "# ckpt = \"/home/jovyan/prompts_learning/ft_weight/cyp_3a4_reg_Epoch170_val_mae_7.85259_rmse_15.68281.pth\"\n",
    "ckpt = \"/home/jovyan/prompts_learning/trained_weight/hum_mic_cl_reg_Epoch160_val_mae_0.34435_mse_0.4634.pth\"\n",
    "# ckpt = \"/home/jovyan/prompts_learning/ft_weight/bbb_cls_Epoch4_val_auc_0.93345_acc_0.89513.pth\"\n",
    "# ckpt = \"/home/jovyan/prompts_learning/ft_weight/water_sol_reg_Epoch102_val_mae_0.57307_rmse_0.86905.pth\"\n",
    "model.load_state_dict(torch.load(ckpt))\n",
    "\n",
    "class MLP(nn.Module):\n",
    "    def __init__(self, embed_dim=256, end=768):\n",
    "        super().__init__()\n",
    "        \n",
    "        # self.fc1 = nn.Linear(embed_dim,end)\n",
    "        # self.act = nn.GELU()\n",
    "        # self.fc2 = nn.Linear(end, end)\n",
    "        \n",
    "        self.fc1 = nn.Linear(embed_dim,embed_dim*2)\n",
    "        self.act = nn.GELU()\n",
    "        self.fc2 = nn.Linear(embed_dim*2, end)\n",
    "        \n",
    "    def forward(self, x):\n",
    "        x = self.fc1(x)\n",
    "        x = self.act(x)\n",
    "        x = self.fc2(x)\n",
    "        return x\n",
    "    \n",
    "def mean_pooling(token_embeddings, attention_mask):\n",
    "    attention_mask = ~attention_mask\n",
    "    input_mask_expanded = attention_mask.unsqueeze(-1).expand(token_embeddings.size()).float() # [pad, B, d]\n",
    "    sum_embeddings = torch.sum(token_embeddings * input_mask_expanded, 0) # [B, d]\n",
    "    sum_mask = torch.clamp(input_mask_expanded.sum(0), min=1e-9) # [B, d]\n",
    "    return sum_embeddings / sum_mask\n",
    "\n",
    "\n",
    "generation2MMPL = MLP(molecule_dim_generation, 768).to(device)\n",
    "# generation2MMPL = nn.Linear(molecule_dim_generation, 768).to(device)\n",
    "\n",
    "\n",
    "\n",
    "import numpy as np\n",
    "from multiprocessing import Pool\n",
    "from rdkit import Chem\n",
    "from scipy import sparse as sp\n",
    "def preprocess_smi_for_kpgt(smiles, n_jobs=1):\n",
    "    print('extracting fingerprints')\n",
    "    FP_list = []\n",
    "    mol = Chem.MolFromSmiles(smiles)\n",
    "    FP_list.append(list(Chem.RDKFingerprint(mol, minPath=1, maxPath=7, fpSize=512)))\n",
    "    FP_arr = np.array(FP_list)\n",
    "    fp = sp.csc_matrix(FP_arr)\n",
    "    print('finish fingerprints')\n",
    "\n",
    "    print('extracting molecular descriptors')\n",
    "    generator = RDKit2DNormalized()\n",
    "    features_map = Pool(n_jobs).imap(generator.process, [smiles])\n",
    "    arr = np.array(list(features_map))\n",
    "    md = arr[:,1:]\n",
    "    return fp, md\n",
    "\n",
    "def clip_loss_for_edit(molecule_repr, text_repr):\n",
    "    molecule_repr = F.normalize(molecule_repr, dim=-1)\n",
    "    text_repr = F.normalize(text_repr, dim=-1)\n",
    "\n",
    "    similarity = -torch.mm(molecule_repr, text_repr.transpose(0, 1))[0]\n",
    "    return similarity\n",
    "\n",
    "\n",
    "def get_lr(t, initial_lr, rampdown=0.25, rampup=0.05):\n",
    "    lr_ramp = min(1, (1 - t) / rampdown)\n",
    "    lr_ramp = 0.5 - 0.5 * math.cos(lr_ramp * math.pi)\n",
    "    lr_ramp = lr_ramp * min(1, t / rampup)\n",
    "    return initial_lr * lr_ramp\n",
    "\n",
    "def evaluate_SMILES_list(SMILES_list, description):\n",
    "    print(\"SMILES_list:\", SMILES_list)\n",
    "    mol_list = []\n",
    "    for SMILES in SMILES_list:\n",
    "        mol = Chem.MolFromSmiles(SMILES)\n",
    "        if mol is None:\n",
    "            continue\n",
    "        mol_list.append(mol)\n",
    "\n",
    "    if len(mol_list) < 3:\n",
    "        return [False]\n",
    "\n",
    "    if \"soluble\" in description and \"insoluble\" not in description:\n",
    "        props = [\"MolLogP\"]\n",
    "        prop_pred = [(n, func) for n, func in Descriptors.descList if n.split(\"_\")[-1] in props]\n",
    "        print(prop_pred)\n",
    "        value_list = []\n",
    "        for name, func in prop_pred:\n",
    "            for idx, (SMILES, mol) in enumerate(zip(SMILES_list, mol_list)):\n",
    "                if idx == 1:\n",
    "                    continue\n",
    "                value = func(mol)\n",
    "                value_list.append(value)\n",
    "                print(\"SMILES: {}\\t\\t\\tlogP: {:.5f}\".format(SMILES, value))\n",
    "        if value_list[0] > value_list[-1]:\n",
    "            answer = [True]\n",
    "        else:\n",
    "            answer = [False]\n",
    "\n",
    "    return answer\n",
    "\n",
    "\n",
    "\n"
   ]
  },
  {
   "cell_type": "code",
   "execution_count": 2,
   "id": "e571afd0-32e5-4bbf-a46e-25d6ffaec815",
   "metadata": {
    "tags": []
   },
   "outputs": [
    {
     "name": "stdout",
     "output_type": "stream",
     "text": [
      "extracting fingerprints\n",
      "finish fingerprints\n",
      "extracting molecular descriptors\n"
     ]
    },
    {
     "name": "stderr",
     "output_type": "stream",
     "text": [
      "WARNING:MoleculeSTM.models.mega_molbart.mega_mol_bart:WARNING: MOLECULE VALIDATION AND SANITIZATION CURRENTLY DISABLED\n"
     ]
    },
    {
     "name": "stdout",
     "output_type": "stream",
     "text": [
      "Use random noise for init\n",
      "l2 lambda: 0.001\n",
      "Use random noise for init\n",
      "Learning rate of latent: 7e-05\n"
     ]
    },
    {
     "name": "stderr",
     "output_type": "stream",
     "text": [
      "100%|██████████| 10/10 [00:00<00:00, 23.55it/s]\n"
     ]
    },
    {
     "name": "stdout",
     "output_type": "stream",
     "text": [
      "clip loss: -0.45579\tL2 loss: -0.00001\tAlign loss: 0.06545\n"
     ]
    },
    {
     "name": "stderr",
     "output_type": "stream",
     "text": [
      "WARNING:MoleculeSTM.models.mega_molbart.mega_mol_bart:WARNING: MOLECULE VALIDATION AND SANITIZATION CURRENTLY DISABLED\n"
     ]
    },
    {
     "name": "stdout",
     "output_type": "stream",
     "text": [
      "SMILES_list: ['Cn1cc(-c2n[nH]c3ccc(NCc4cc(F)ccc4S(C)(=O)=O)cc23)cn1', 'Cn1cc(-c2cc(-c3ccc4cc(F)cc(CNS(C)(=O)=O)c4c3)[nH]n2)cn1', 'Cn1cc(-c2n[nH]c3cc(NCc4cc(F)ccc4S(C)(=O)=O)ccc23)cn1']\n",
      "[('MolLogP', <function <lambda> at 0x7fdb1e99fc10>)]\n",
      "SMILES: Cn1cc(-c2n[nH]c3ccc(NCc4cc(F)ccc4S(C)(=O)=O)cc23)cn1\t\t\tlogP: 3.11810\n",
      "SMILES: Cn1cc(-c2n[nH]c3cc(NCc4cc(F)ccc4S(C)(=O)=O)ccc23)cn1\t\t\tlogP: 3.11810\n",
      "\n",
      "l2 lambda: 0.001\n",
      "Use random noise for init\n",
      "Learning rate of latent: 6.33067452506163e-05\n"
     ]
    },
    {
     "name": "stderr",
     "output_type": "stream",
     "text": [
      "100%|██████████| 10/10 [00:00<00:00, 29.99it/s]\n"
     ]
    },
    {
     "name": "stdout",
     "output_type": "stream",
     "text": [
      "clip loss: -0.79103\tL2 loss: -0.00001\tAlign loss: 0.06267\n"
     ]
    },
    {
     "name": "stderr",
     "output_type": "stream",
     "text": [
      "WARNING:MoleculeSTM.models.mega_molbart.mega_mol_bart:WARNING: MOLECULE VALIDATION AND SANITIZATION CURRENTLY DISABLED\n"
     ]
    },
    {
     "name": "stdout",
     "output_type": "stream",
     "text": [
      "SMILES_list: ['Cn1cc(-c2n[nH]c3ccc(NCc4cc(F)ccc4S(C)(=O)=O)cc23)cn1', 'Cn1cc(-c2cc(-c3ccc4cc(F)cc(CNS(C)(=O)=O)c4c3)[nH]n2)cn1', 'c1c(-c2cnn(C)c2)n[nH]c2)c1cc(NCc1c(S(=O)(C)=O)ccc(F)c12']\n",
      "\n",
      "l2 lambda: 0.001\n",
      "Use random noise for init\n",
      "Learning rate of latent: 5.725348563180614e-05\n"
     ]
    },
    {
     "name": "stderr",
     "output_type": "stream",
     "text": [
      "100%|██████████| 10/10 [00:00<00:00, 30.25it/s]\n"
     ]
    },
    {
     "name": "stdout",
     "output_type": "stream",
     "text": [
      "clip loss: -0.95454\tL2 loss: -0.00001\tAlign loss: 0.06142\n"
     ]
    },
    {
     "name": "stderr",
     "output_type": "stream",
     "text": [
      "WARNING:MoleculeSTM.models.mega_molbart.mega_mol_bart:WARNING: MOLECULE VALIDATION AND SANITIZATION CURRENTLY DISABLED\n"
     ]
    },
    {
     "name": "stdout",
     "output_type": "stream",
     "text": [
      "SMILES_list: ['Cn1cc(-c2n[nH]c3ccc(NCc4cc(F)ccc4S(C)(=O)=O)cc23)cn1', 'Cn1cc(-c2cc(-c3ccc4cc(F)cc(CNS(C)(=O)=O)c4c3)[nH]n2)cn1', 'Cn1cc(-c2cc(NCc3cc(F)ccc3S(C)(=O)=O)cc3n[nH]cc23)cn1']\n",
      "[('MolLogP', <function <lambda> at 0x7fdb1e99fc10>)]\n",
      "SMILES: Cn1cc(-c2n[nH]c3ccc(NCc4cc(F)ccc4S(C)(=O)=O)cc23)cn1\t\t\tlogP: 3.11810\n",
      "SMILES: Cn1cc(-c2cc(NCc3cc(F)ccc3S(C)(=O)=O)cc3n[nH]cc23)cn1\t\t\tlogP: 3.11810\n",
      "\n",
      "l2 lambda: 0.0001\n",
      "Use random noise for init\n",
      "Learning rate of latent: 5.1779026137179606e-05\n"
     ]
    },
    {
     "name": "stderr",
     "output_type": "stream",
     "text": [
      "100%|██████████| 10/10 [00:00<00:00, 25.60it/s]\n"
     ]
    },
    {
     "name": "stdout",
     "output_type": "stream",
     "text": [
      "clip loss: -0.99692\tL2 loss: -0.00000\tAlign loss: 0.06100\n"
     ]
    },
    {
     "name": "stderr",
     "output_type": "stream",
     "text": [
      "WARNING:MoleculeSTM.models.mega_molbart.mega_mol_bart:WARNING: MOLECULE VALIDATION AND SANITIZATION CURRENTLY DISABLED\n"
     ]
    },
    {
     "name": "stdout",
     "output_type": "stream",
     "text": [
      "SMILES_list: ['Cn1cc(-c2n[nH]c3ccc(NCc4cc(F)ccc4S(C)(=O)=O)cc23)cn1', 'Cn1cc(-c2cc(-c3ccc4cc(F)cc(CNS(C)(=O)=O)c4c3)[nH]n2)cn1', 'Cn1cc(-c2n[nH]c3ccc(NCc4cc(F)ccc4S(C)(=O)=O)cc23)cn1']\n",
      "[('MolLogP', <function <lambda> at 0x7fdb1e99fc10>)]\n",
      "SMILES: Cn1cc(-c2n[nH]c3ccc(NCc4cc(F)ccc4S(C)(=O)=O)cc23)cn1\t\t\tlogP: 3.11810\n",
      "SMILES: Cn1cc(-c2n[nH]c3ccc(NCc4cc(F)ccc4S(C)(=O)=O)cc23)cn1\t\t\tlogP: 3.11810\n",
      "\n",
      "l2 lambda: 1e-05\n",
      "Use random noise for init\n",
      "Learning rate of latent: 4.682802309987761e-05\n"
     ]
    },
    {
     "name": "stderr",
     "output_type": "stream",
     "text": [
      "100%|██████████| 10/10 [00:00<00:00, 31.50it/s]\n"
     ]
    },
    {
     "name": "stdout",
     "output_type": "stream",
     "text": [
      "clip loss: -0.99830\tL2 loss: -0.00000\tAlign loss: 0.06104\n"
     ]
    },
    {
     "name": "stderr",
     "output_type": "stream",
     "text": [
      "WARNING:MoleculeSTM.models.mega_molbart.mega_mol_bart:WARNING: MOLECULE VALIDATION AND SANITIZATION CURRENTLY DISABLED\n"
     ]
    },
    {
     "name": "stdout",
     "output_type": "stream",
     "text": [
      "SMILES_list: ['Cn1cc(-c2n[nH]c3ccc(NCc4cc(F)ccc4S(C)(=O)=O)cc23)cn1', 'Cn1cc(-c2cc(-c3ccc4cc(F)cc(CNS(C)(=O)=O)c4c3)[nH]n2)cn1', 'Cn1nncc1-c1n[nH]c2cc(NCc3cc(F)ccc3S(C)(=O)=O)ccc12']\n",
      "[('MolLogP', <function <lambda> at 0x7fdb1e99fc10>)]\n",
      "SMILES: Cn1cc(-c2n[nH]c3ccc(NCc4cc(F)ccc4S(C)(=O)=O)cc23)cn1\t\t\tlogP: 3.11810\n",
      "SMILES: Cn1nncc1-c1n[nH]c2cc(NCc3cc(F)ccc3S(C)(=O)=O)ccc12\t\t\tlogP: 2.51310\n",
      "\n",
      "l2 lambda: 0\n",
      "Use random noise for init\n",
      "Learning rate of latent: 4.235042469962754e-05\n"
     ]
    },
    {
     "name": "stderr",
     "output_type": "stream",
     "text": [
      "100%|██████████| 10/10 [00:00<00:00, 30.86it/s]\n"
     ]
    },
    {
     "name": "stdout",
     "output_type": "stream",
     "text": [
      "clip loss: -0.99834\tL2 loss: 0.00000\tAlign loss: 0.06106\n"
     ]
    },
    {
     "name": "stderr",
     "output_type": "stream",
     "text": [
      "WARNING:MoleculeSTM.models.mega_molbart.mega_mol_bart:WARNING: MOLECULE VALIDATION AND SANITIZATION CURRENTLY DISABLED\n"
     ]
    },
    {
     "name": "stdout",
     "output_type": "stream",
     "text": [
      "SMILES_list: ['Cn1cc(-c2n[nH]c3ccc(NCc4cc(F)ccc4S(C)(=O)=O)cc23)cn1', 'Cn1cc(-c2cc(-c3ccc4cc(F)cc(CNS(C)(=O)=O)c4c3)[nH]n2)cn1', 'c1c(-c2cnn(C)c2)[nH]c2c1cc(NCc1cc(F)ccc1S(=O)(C)=O)c2']\n",
      "\n",
      "l2 lambda: 0\n",
      "Use random noise for init\n",
      "Learning rate of latent: 3.830096496735328e-05\n"
     ]
    },
    {
     "name": "stderr",
     "output_type": "stream",
     "text": [
      "100%|██████████| 10/10 [00:00<00:00, 30.99it/s]\n"
     ]
    },
    {
     "name": "stdout",
     "output_type": "stream",
     "text": [
      "clip loss: -0.99838\tL2 loss: 0.00000\tAlign loss: 0.06107\n"
     ]
    },
    {
     "name": "stderr",
     "output_type": "stream",
     "text": [
      "WARNING:MoleculeSTM.models.mega_molbart.mega_mol_bart:WARNING: MOLECULE VALIDATION AND SANITIZATION CURRENTLY DISABLED\n"
     ]
    },
    {
     "name": "stdout",
     "output_type": "stream",
     "text": [
      "SMILES_list: ['Cn1cc(-c2n[nH]c3ccc(NCc4cc(F)ccc4S(C)(=O)=O)cc23)cn1', 'Cn1cc(-c2cc(-c3ccc4cc(F)cc(CNS(C)(=O)=O)c4c3)[nH]n2)cn1', 'Cn1cc(-c2n[nH]c3cc(NCc4cc(F)ccc4S(C)(=O)=O)ccc23)cn1']\n",
      "[('MolLogP', <function <lambda> at 0x7fdb1e99fc10>)]\n",
      "SMILES: Cn1cc(-c2n[nH]c3ccc(NCc4cc(F)ccc4S(C)(=O)=O)cc23)cn1\t\t\tlogP: 3.11810\n",
      "SMILES: Cn1cc(-c2n[nH]c3cc(NCc4cc(F)ccc4S(C)(=O)=O)ccc23)cn1\t\t\tlogP: 3.11810\n",
      "\n",
      "l2 lambda: 0\n",
      "Use random noise for init\n",
      "Learning rate of latent: 3.463870617201448e-05\n"
     ]
    },
    {
     "name": "stderr",
     "output_type": "stream",
     "text": [
      "100%|██████████| 10/10 [00:00<00:00, 29.76it/s]\n"
     ]
    },
    {
     "name": "stdout",
     "output_type": "stream",
     "text": [
      "clip loss: -0.99837\tL2 loss: 0.00000\tAlign loss: 0.06106\n"
     ]
    },
    {
     "name": "stderr",
     "output_type": "stream",
     "text": [
      "WARNING:MoleculeSTM.models.mega_molbart.mega_mol_bart:WARNING: MOLECULE VALIDATION AND SANITIZATION CURRENTLY DISABLED\n"
     ]
    },
    {
     "name": "stdout",
     "output_type": "stream",
     "text": [
      "SMILES_list: ['Cn1cc(-c2n[nH]c3ccc(NCc4cc(F)ccc4S(C)(=O)=O)cc23)cn1', 'Cn1cc(-c2cc(-c3ccc4cc(F)cc(CNS(C)(=O)=O)c4c3)[nH]n2)cn1', 'Cn1cc(-c2n[nH]c3cc(NCc4ccc(F)cc4S(C)(=O)=O)ccc23)cn1']\n",
      "[('MolLogP', <function <lambda> at 0x7fdb1e99fc10>)]\n",
      "SMILES: Cn1cc(-c2n[nH]c3ccc(NCc4cc(F)ccc4S(C)(=O)=O)cc23)cn1\t\t\tlogP: 3.11810\n",
      "SMILES: Cn1cc(-c2n[nH]c3cc(NCc4ccc(F)cc4S(C)(=O)=O)ccc23)cn1\t\t\tlogP: 3.11810\n",
      "\n",
      "l2 lambda: 0\n",
      "Use random noise for init\n",
      "Learning rate of latent: 3.1326624963466745e-05\n"
     ]
    },
    {
     "name": "stderr",
     "output_type": "stream",
     "text": [
      "100%|██████████| 10/10 [00:00<00:00, 29.93it/s]\n"
     ]
    },
    {
     "name": "stdout",
     "output_type": "stream",
     "text": [
      "clip loss: -0.99839\tL2 loss: 0.00000\tAlign loss: 0.06107\n"
     ]
    },
    {
     "name": "stderr",
     "output_type": "stream",
     "text": [
      "WARNING:MoleculeSTM.models.mega_molbart.mega_mol_bart:WARNING: MOLECULE VALIDATION AND SANITIZATION CURRENTLY DISABLED\n"
     ]
    },
    {
     "name": "stdout",
     "output_type": "stream",
     "text": [
      "SMILES_list: ['Cn1cc(-c2n[nH]c3ccc(NCc4cc(F)ccc4S(C)(=O)=O)cc23)cn1', 'Cn1cc(-c2cc(-c3ccc4cc(F)cc(CNS(C)(=O)=O)c4c3)[nH]n2)cn1', 'Cn1nncc1-c1n[nH]c2cc(NCc3ccc(F)cc3S(C)(=O)=O)ccc12']\n",
      "[('MolLogP', <function <lambda> at 0x7fdb1e99fc10>)]\n",
      "SMILES: Cn1cc(-c2n[nH]c3ccc(NCc4cc(F)ccc4S(C)(=O)=O)cc23)cn1\t\t\tlogP: 3.11810\n",
      "SMILES: Cn1nncc1-c1n[nH]c2cc(NCc3ccc(F)cc3S(C)(=O)=O)ccc12\t\t\tlogP: 2.51310\n",
      "\n",
      "l2 lambda: 0\n",
      "Use random noise for init\n",
      "Learning rate of latent: 2.833123808748267e-05\n"
     ]
    },
    {
     "name": "stderr",
     "output_type": "stream",
     "text": [
      "100%|██████████| 10/10 [00:00<00:00, 31.56it/s]\n"
     ]
    },
    {
     "name": "stdout",
     "output_type": "stream",
     "text": [
      "clip loss: -0.99839\tL2 loss: 0.00000\tAlign loss: 0.06107\n"
     ]
    },
    {
     "name": "stderr",
     "output_type": "stream",
     "text": [
      "WARNING:MoleculeSTM.models.mega_molbart.mega_mol_bart:WARNING: MOLECULE VALIDATION AND SANITIZATION CURRENTLY DISABLED\n"
     ]
    },
    {
     "name": "stdout",
     "output_type": "stream",
     "text": [
      "SMILES_list: ['Cn1cc(-c2n[nH]c3ccc(NCc4cc(F)ccc4S(C)(=O)=O)cc23)cn1', 'Cn1cc(-c2cc(-c3ccc4cc(F)cc(CNS(C)(=O)=O)c4c3)[nH]n2)cn1', 'c1c(-c2cnn(C)c2)n[nH]c1-c1cc2c(cc(F)c1)S(=O)(=O)C)ccc2']\n",
      "\n"
     ]
    }
   ],
   "source": [
    "text = \"This molecule is soluble in water.\"\n",
    "text_repr = model.text_proc.edit_forward(text)\n",
    "SMILES=\"Cn1cc(-c2n[nH]c3ccc(NCc4cc(F)ccc4S(C)(=O)=O)cc23)cn1\"\n",
    "# SMILES=\"OC[C@H]1O[C@@H](n2cnc3c(NC4CCCC4)nc(Cl)nc32)[C@H](O)[C@@H]1O\"\n",
    "fps, mds = preprocess_smi_for_kpgt(SMILES)\n",
    "fps = torch.from_numpy(fps.todense().astype(np.float32))\n",
    "mds = torch.from_numpy(np.where(np.isnan(mds.astype(np.float32)), 0, mds))\n",
    "graphs = smiles_to_graph(SMILES, vocab, max_length=config['path_length'], n_virtual_nodes=2, add_self_loop=True)\n",
    "batched_graph = dgl.batch([graphs])\n",
    "mds = torch.stack([mds], dim=0).reshape(len([SMILES]),-1).float()\n",
    "fps = torch.stack([fps], dim=0).reshape(len([SMILES]),-1).float()\n",
    "batched_graph.edata['path'][:, :] = preprocess_batch_light(batched_graph.batch_num_nodes(), batched_graph.batch_num_edges(), batched_graph.edata['path'][:, :])\n",
    "batched_graph = batched_graph.to(device)\n",
    "mmpl_repre = model.mol_encoder.edit_forward([batched_graph, fps.cuda(), mds.cuda()])\n",
    "    \n",
    "first_and_second_SMILES_list = []\n",
    "\n",
    "latent_code_init, pad_mask_init = MegaMolBART_wrapper.smileslist2embedding([SMILES])  # [pad, B, d], [pad, B]\n",
    "first_and_second_SMILES_list.append(SMILES)\n",
    "\n",
    "regenerated_mols = MegaMolBART_wrapper.inverse_transform([latent_code_init], pad_mask_init.bool().cuda(), k=1, sanitize=True)\n",
    "first_and_second_SMILES_list.append(regenerated_mols[0])\n",
    "\n",
    "# l2_lambda_list = [0.]\n",
    "# l2_lambda_list = [0.1, 0.01, 1e-3, 1e-4, 1e-5, 1e-6, 0.]\n",
    "l2_lambda_list = [0.001, 0.001, 1e-3, 1e-4, 1e-5, 0, 0, 0, 0 ,0]\n",
    "# l2_lambda_list = [0, 0, 0, 1e-7, 1e-6, 1e-5, 1e-4, 0., 0.]\n",
    "# l2_lambda_list = [1e-4, 1e-4, 1e-4, 1e-4,1e-4]\n",
    "# l2_lambda_list = [1e-3, 1e-4, 1e-5, 1e-6, 1e-8]\n",
    "result_SMILES_list_one_pair, result_eval_list_one_pair = [], []\n",
    "\n",
    "use_noise_for_init = True\n",
    "# use_noise_for_init = False\n",
    "verbose = True\n",
    "epochs = 10\n",
    "# normalize = True\n",
    "normalize = False\n",
    "wd = 0.\n",
    "lr = 7e-5\n",
    "\n",
    "# seed = 10\n",
    "# seed = 1024\n",
    "# # seed = 979\n",
    "# torch.manual_seed(seed)\n",
    "# np.random.seed(seed)\n",
    "# torch.cuda.manual_seed(seed)\n",
    "\n",
    "if use_noise_for_init:\n",
    "    print(\"Use random noise for init\")\n",
    "    random_noise = torch.randn(latent_code_init.size()).to(device)\n",
    "\n",
    "for l2_lambda in l2_lambda_list:\n",
    "    print(\"l2 lambda: {}\".format(l2_lambda))\n",
    "    current_SMILES_list = [first_and_second_SMILES_list[0]] + [first_and_second_SMILES_list[1]]\n",
    "    if use_noise_for_init:\n",
    "        print(\"Use random noise for init\")\n",
    "        # random_noise = torch.randn(latent_code_init.size()).to(device)\n",
    "        latent = latent_code_init.detach().clone() + random_noise * 0.1\n",
    "    else:\n",
    "        print(\"No random noise for init\")\n",
    "        latent = latent_code_init.detach().clone()\n",
    "    pad_mask = pad_mask_init.detach().clone()\n",
    "    latent.requires_grad = True\n",
    "    print(\"Learning rate of latent: {}\".format(lr))\n",
    "    model_params = [\n",
    "        {'params': latent, 'lr': lr, \"weight_decay\": wd},\n",
    "        {'params': generation2MMPL.parameters(), 'lr': 7e-5, \"weight_decay\": 0.},\n",
    "    ]\n",
    "    from adan import Adan\n",
    "    optimizer = Adan(model_params, betas=(0.98, 0.92, 0.99), max_grad_norm=5.)\n",
    "    # optimizer = Adan(model_params, betas=(0.97, 0.92, 0.95), max_grad_norm=5.)\n",
    "\n",
    "    if verbose:\n",
    "        L = tqdm(range(epochs))\n",
    "    else:\n",
    "        L = range(epochs)\n",
    "\n",
    "    for i in L:\n",
    "        t = i / epochs\n",
    "        # lr = get_lr(t, lr)\n",
    "        lr = lr * 0.99\n",
    "        optimizer.param_groups[0][\"lr\"] = lr\n",
    "        # optimizer.param_groups[1][\"lr\"] = lr\n",
    "\n",
    "        molecule_repr_generation = mean_pooling(latent, pad_mask) # [B, d]\n",
    "        if normalize:\n",
    "            molecule_repr_generation = F.normalize(molecule_repr_generation, dim=-1)\n",
    "        molecule_repr_foundation = generation2MMPL(molecule_repr_generation)\n",
    "\n",
    "        clip_loss_ = clip_loss_for_edit(molecule_repr_foundation, text_repr)\n",
    "        l2_loss_ = -l2_lambda * ((latent_code_init - latent) ** 2).mean()\n",
    "        align_loss_ = ((molecule_repr_foundation - mmpl_repre) ** 2).mean()\n",
    "        # align_loss_ = clip_loss_for_edit(molecule_repr_foundation, mmpl_repre)\n",
    "\n",
    "        loss = .1 * clip_loss_ + .01 *l2_loss_ + .2 *align_loss_\n",
    "\n",
    "        optimizer.zero_grad()\n",
    "        loss.backward(retain_graph=True)\n",
    "        optimizer.step()\n",
    "    print(\"clip loss: {:.5f}\\tL2 loss: {:.5f}\\tAlign loss: {:.5f}\".format(clip_loss_.item(), l2_loss_.item(), align_loss_.item()))\n",
    "\n",
    "    generated_mols = MegaMolBART_wrapper.inverse_transform([latent], pad_mask.bool().cuda(), k=1, sanitize=True)\n",
    "    current_SMILES_list.append(generated_mols[0])\n",
    "    result_SMILES_list_one_pair.append([text] + current_SMILES_list + ['{}'.format(l2_lambda)])\n",
    "\n",
    "    current_result_list = evaluate_SMILES_list(current_SMILES_list, text)\n",
    "    result_eval_list_one_pair.append(current_result_list)\n",
    "    print()\n",
    "\n",
    "result_eval_list_one_pair = np.array(result_eval_list_one_pair)\n",
    "result_eval_list_one_pair = np.any(result_eval_list_one_pair, axis=0, keepdims=True)"
   ]
  },
  {
   "cell_type": "code",
   "execution_count": 3,
   "id": "5296eb98-d661-4aac-b3d4-7aec6dad3e14",
   "metadata": {},
   "outputs": [
    {
     "name": "stdout",
     "output_type": "stream",
     "text": [
      "Cn1cc(-c2n[nH]c3ccc(NCc4cc(F)ccc4S(C)(=O)=O)cc23)cn1\n",
      "CC(C)(Nc1ncc(C(=O)N2CCC3(CCOCC3)C2)cn1)c1cncnc1\n"
     ]
    }
   ],
   "source": [
    "from rdkit import Chem\n",
    "ori_smi = SMILES\n",
    "edi_smi = \"CC(C)(Nc1ncc(C(=O)N2CCC3(CCOCC3)C2)cn1)c1cncnc1\"\n",
    "print(ori_smi)\n",
    "print(edi_smi)"
   ]
  },
  {
   "cell_type": "code",
   "execution_count": 4,
   "id": "436ceb38-7797-4c04-8d3f-0d24dd018a8c",
   "metadata": {
    "tags": []
   },
   "outputs": [
    {
     "data": {
      "image/png": "[encoded data removed]",
      "text/plain": [
       "<rdkit.Chem.rdchem.Mol at 0x7fdc081c9f90>"
      ]
     },
     "execution_count": 4,
     "metadata": {},
     "output_type": "execute_result"
    }
   ],
   "source": [
    "Chem.MolFromSmiles(ori_smi)"
   ]
  },
  {
   "cell_type": "code",
   "execution_count": 5,
   "id": "7b759520-5b3e-4153-891f-e16e9e166baf",
   "metadata": {
    "tags": []
   },
   "outputs": [
    {
     "data": {
      "image/png": "[encoded data removed]",
      "text/plain": [
       "<rdkit.Chem.rdchem.Mol at 0x7fda9056b890>"
      ]
     },
     "execution_count": 5,
     "metadata": {},
     "output_type": "execute_result"
    }
   ],
   "source": [
    "Chem.MolFromSmiles(edi_smi)"
   ]
  },
  {
   "cell_type": "code",
   "execution_count": 108,
   "id": "81514428-17b3-496b-bb32-a980e6d355a8",
   "metadata": {},
   "outputs": [
    {
     "name": "stdout",
     "output_type": "stream",
     "text": [
      "extracting fingerprints\n",
      "finish fingerprints\n",
      "extracting molecular descriptors\n",
      "extracting fingerprints\n",
      "finish fingerprints\n",
      "extracting molecular descriptors\n",
      "\n",
      "Original:  2.1445785\n",
      "After edit:  2.0274372\n"
     ]
    }
   ],
   "source": [
    "# SMILES=ori_smi\n",
    "fps, mds = preprocess_smi_for_kpgt(ori_smi)\n",
    "fps = torch.from_numpy(fps.todense().astype(np.float32))\n",
    "mds = torch.from_numpy(np.where(np.isnan(mds.astype(np.float32)), 0, mds))\n",
    "graphs = smiles_to_graph(ori_smi, vocab, max_length=config['path_length'], n_virtual_nodes=2, add_self_loop=True)\n",
    "batched_graph = dgl.batch([graphs])\n",
    "mds = torch.stack([mds], dim=0).reshape(len([ori_smi]),-1).float()\n",
    "fps = torch.stack([fps], dim=0).reshape(len([ori_smi]),-1).float()\n",
    "batched_graph.edata['path'][:, :] = preprocess_batch_light(batched_graph.batch_num_nodes(), batched_graph.batch_num_edges(), batched_graph.edata['path'][:, :])\n",
    "batched_graph = batched_graph.to(device)\n",
    "model.eval()\n",
    "\n",
    "with torch.no_grad():\n",
    "    pred = model([batched_graph, fps.cuda(), mds.cuda()])\n",
    "    max_v, min_v =6.361727836017593, -2.5228787452803374\n",
    "    ori_hum_mic = (pred + 1.) / 2. * (max_v - min_v) + min_v\n",
    "    \n",
    "    \n",
    "# SMILES=edi_smi\n",
    "fps, mds = preprocess_smi_for_kpgt(edi_smi)\n",
    "fps = torch.from_numpy(fps.todense().astype(np.float32))\n",
    "mds = torch.from_numpy(np.where(np.isnan(mds.astype(np.float32)), 0, mds))\n",
    "graphs = smiles_to_graph(edi_smi, vocab, max_length=config['path_length'], n_virtual_nodes=2, add_self_loop=True)\n",
    "batched_graph = dgl.batch([graphs])\n",
    "mds = torch.stack([mds], dim=0).reshape(len([edi_smi]),-1).float()\n",
    "fps = torch.stack([fps], dim=0).reshape(len([edi_smi]),-1).float()\n",
    "batched_graph.edata['path'][:, :] = preprocess_batch_light(batched_graph.batch_num_nodes(), batched_graph.batch_num_edges(), batched_graph.edata['path'][:, :])\n",
    "batched_graph = batched_graph.to(device)\n",
    "\n",
    "with torch.no_grad():\n",
    "    pred = model([batched_graph, fps.cuda(), mds.cuda()])\n",
    "    max_v, min_v = 6.361727836017593, -2.5228787452803374\n",
    "    edi_hum_mic = (pred + 1.) / 2. * (max_v - min_v) + min_v\n",
    "print()\n",
    "print(\"Original: \", ori_hum_mic[0, 0].cpu().numpy())\n",
    "print(\"After edit: \", edi_hum_mic[0, 0].cpu().numpy())"
   ]
  },
  {
   "cell_type": "code",
   "execution_count": null,
   "id": "c67101d9-5178-4616-8513-8840738c9fab",
   "metadata": {},
   "outputs": [],
   "source": []
  },
  {
   "cell_type": "code",
   "execution_count": null,
   "id": "e71359f0-6522-4a5d-b43e-d568fceba83a",
   "metadata": {},
   "outputs": [],
   "source": []
  }
 ],
 "metadata": {
  "kernelspec": {
   "display_name": "fcb",
   "language": "python",
   "name": "fcb"
  },
  "language_info": {
   "codemirror_mode": {
    "name": "ipython",
    "version": 3
   },
   "file_extension": ".py",
   "mimetype": "text/x-python",
   "name": "python",
   "nbconvert_exporter": "python",
   "pygments_lexer": "ipython3",
   "version": "3.8.20"
  }
 },
 "nbformat": 4,
 "nbformat_minor": 5
}
