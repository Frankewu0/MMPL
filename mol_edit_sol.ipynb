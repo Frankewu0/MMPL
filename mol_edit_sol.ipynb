{
 "cells": [
  {
   "cell_type": "code",
   "execution_count": 1,
   "id": "59b1e3b8-e822-458c-84dd-eab1695799e3",
   "metadata": {
    "tags": []
   },
   "outputs": [
    {
     "name": "stderr",
     "output_type": "stream",
     "text": [
      "/home/jovyan/.conda/fcb/lib/python3.8/site-packages/tqdm/auto.py:21: TqdmWarning: IProgress not found. Please update jupyter and ipywidgets. See https://ipywidgets.readthedocs.io/en/stable/user_install.html\n",
      "  from .autonotebook import tqdm as notebook_tqdm\n"
     ]
    },
    {
     "name": "stdout",
     "output_type": "stream",
     "text": [
      "[2025-03-28 06:02:42,294] [INFO] [real_accelerator.py:219:get_accelerator] Setting ds_accelerator to cuda (auto detect)\n",
      "Warning: The cache directory for DeepSpeed Triton autotune, /home/jovyan/.triton/autotune, appears to be on an NFS system. While this is generally acceptable, if you experience slowdowns or hanging when DeepSpeed exits, it is recommended to set the TRITON_CACHE_DIR environment variable to a non-NFS path.\n"
     ]
    },
    {
     "name": "stderr",
     "output_type": "stream",
     "text": [
      "/home/jovyan/.conda/fcb/compiler_compat/ld: cannot find -laio: No such file or directory\n",
      "collect2: error: ld returned 1 exit status\n",
      "/home/jovyan/.conda/fcb/compiler_compat/ld: cannot find -laio: No such file or directory\n",
      "collect2: error: ld returned 1 exit status\n",
      "/home/jovyan/.conda/fcb/lib/python3.8/site-packages/apex/pyprof/__init__.py:5: FutureWarning: pyprof will be removed by the end of June, 2022\n",
      "  warnings.warn(\"pyprof will be removed by the end of June, 2022\", FutureWarning)\n",
      "WARNING:root:No normalization for SPS\n",
      "WARNING:root:No normalization for BCUT2D_MWHI\n",
      "WARNING:root:No normalization for BCUT2D_MWLOW\n",
      "WARNING:root:No normalization for BCUT2D_CHGHI\n",
      "WARNING:root:No normalization for BCUT2D_CHGLO\n",
      "WARNING:root:No normalization for BCUT2D_LOGPHI\n",
      "WARNING:root:No normalization for BCUT2D_LOGPLOW\n",
      "WARNING:root:No normalization for BCUT2D_MRHI\n",
      "WARNING:root:No normalization for BCUT2D_MRLOW\n",
      "WARNING:root:No normalization for AvgIpc\n"
     ]
    },
    {
     "name": "stdout",
     "output_type": "stream",
     "text": [
      "using world size: 1 and model-parallel size: 1 \n",
      "using torch.float32 for parameters ...\n",
      "-------------------- arguments --------------------\n",
      "  adam_beta1 ...................... 0.9\n",
      "  adam_beta2 ...................... 0.999\n",
      "  adam_eps ........................ 1e-08\n",
      "  adlr_autoresume ................. False\n",
      "  adlr_autoresume_interval ........ 1000\n",
      "  apply_query_key_layer_scaling ... False\n",
      "  apply_residual_connection_post_layernorm  False\n",
      "  attention_dropout ............... 0.1\n",
      "  attention_softmax_in_fp32 ....... False\n",
      "  batch_size ...................... None\n",
      "  bert_load ....................... None\n",
      "  bias_dropout_fusion ............. False\n",
      "  bias_gelu_fusion ................ False\n",
      "  block_data_path ................. None\n",
      "  checkpoint_activations .......... False\n",
      "  checkpoint_in_cpu ............... False\n",
      "  checkpoint_num_layers ........... 1\n",
      "  clip_grad ....................... 1.0\n",
      "  contigious_checkpointing ........ False\n",
      "  cpu_optimizer ................... False\n",
      "  cpu_torch_adam .................. False\n",
      "  data_impl ....................... infer\n",
      "  data_path ....................... None\n",
      "  dataset_path .................... None\n",
      "  DDP_impl ........................ local\n",
      "  deepscale ....................... False\n",
      "  deepscale_config ................ None\n",
      "  deepspeed ....................... False\n",
      "  deepspeed_activation_checkpointing  False\n",
      "  deepspeed_config ................ None\n",
      "  distribute_checkpointed_activations  False\n",
      "  distributed_backend ............. nccl\n",
      "  dynamic_loss_scale .............. True\n",
      "  eod_mask_loss ................... False\n",
      "  eval_interval ................... 1000\n",
      "  eval_iters ...................... 100\n",
      "  exit_interval ................... None\n",
      "  faiss_use_gpu ................... False\n",
      "  finetune ........................ False\n",
      "  fp16 ............................ False\n",
      "  fp16_lm_cross_entropy ........... False\n",
      "  fp32_allreduce .................. False\n",
      "  gas ............................. 1\n",
      "  hidden_dropout .................. 0.1\n",
      "  hidden_size ..................... 256\n",
      "  hysteresis ...................... 2\n",
      "  ict_head_size ................... None\n",
      "  ict_load ........................ None\n",
      "  indexer_batch_size .............. 128\n",
      "  indexer_log_interval ............ 1000\n",
      "  init_method_std ................. 0.02\n",
      "  layernorm_epsilon ............... 1e-05\n",
      "  lazy_mpu_init ................... None\n",
      "  load ............................ /home/jovyan/MoleculeSTM/data/pretrained_MegaMolBART/checkpoints\n",
      "  local_rank ...................... None\n",
      "  log_interval .................... 100\n",
      "  loss_scale ...................... None\n",
      "  loss_scale_window ............... 1000\n",
      "  lr .............................. None\n",
      "  lr_decay_iters .................. None\n",
      "  lr_decay_style .................. linear\n",
      "  make_vocab_size_divisible_by .... 128\n",
      "  mask_prob ....................... 0.15\n",
      "  max_position_embeddings ......... 512\n",
      "  merge_file ...................... None\n",
      "  min_lr .......................... 0.0\n",
      "  min_scale ....................... 1\n",
      "  mmap_warmup ..................... False\n",
      "  model_parallel_size ............. 1\n",
      "  no_load_optim ................... False\n",
      "  no_load_rng ..................... False\n",
      "  no_save_optim ................... False\n",
      "  no_save_rng ..................... False\n",
      "  num_attention_heads ............. 8\n",
      "  num_layers ...................... 4\n",
      "  num_unique_layers ............... None\n",
      "  num_workers ..................... 2\n",
      "  onnx_safe ....................... None\n",
      "  openai_gelu ..................... False\n",
      "  override_lr_scheduler ........... False\n",
      "  param_sharing_style ............. grouped\n",
      "  params_dtype .................... torch.float32\n",
      "  partition_activations ........... False\n",
      "  pipe_parallel_size .............. 0\n",
      "  profile_backward ................ False\n",
      "  query_in_block_prob ............. 0.1\n",
      "  rank ............................ 0\n",
      "  report_topk_accuracies .......... []\n",
      "  reset_attention_mask ............ False\n",
      "  reset_position_ids .............. False\n",
      "  save ............................ None\n",
      "  save_interval ................... None\n",
      "  scaled_masked_softmax_fusion .... False\n",
      "  scaled_upper_triang_masked_softmax_fusion  False\n",
      "  seed ............................ 1234\n",
      "  seq_length ...................... None\n",
      "  short_seq_prob .................. 0.1\n",
      "  split ........................... 969, 30, 1\n",
      "  synchronize_each_layer .......... False\n",
      "  tensorboard_dir ................. None\n",
      "  titles_data_path ................ None\n",
      "  tokenizer_type .................. GPT2BPETokenizer\n",
      "  train_iters ..................... None\n",
      "  use_checkpoint_lr_scheduler ..... False\n",
      "  use_cpu_initialization .......... False\n",
      "  use_one_sent_docs ............... False\n",
      "  vocab_file ...................... /home/jovyan/MoleculeSTM/MoleculeSTM/bart_vocab.txt\n",
      "  warmup .......................... 0.01\n",
      "  weight_decay .................... 0.01\n",
      "  world_size ...................... 1\n",
      "  zero_allgather_bucket_size ...... 0.0\n",
      "  zero_contigious_gradients ....... False\n",
      "  zero_reduce_bucket_size ......... 0.0\n",
      "  zero_reduce_scatter ............. False\n",
      "  zero_stage ...................... 1.0\n",
      "---------------- end of arguments ----------------\n",
      "> initializing torch distributed ...\n",
      "> initializing model parallel with size 1\n",
      "> setting random seeds to 1234 ...\n",
      "> initializing model parallel cuda seeds on global rank 0, model parallel rank 0, and data parallel rank 0 with model parallel seed: 3952 and data parallel seed: 1234\n",
      "Loading vocab from /home/jovyan/MoleculeSTM/MoleculeSTM/bart_vocab.txt.\n",
      "Loading from /home/jovyan/MoleculeSTM/data/pretrained_MegaMolBART/checkpoints\n",
      "global rank 0 is loading checkpoint /home/jovyan/MoleculeSTM/data/pretrained_MegaMolBART/checkpoints/iter_0134000/mp_rank_00/model_optim_rng.pt\n",
      "could not find arguments in the checkpoint ...\n",
      "  successfully loaded /home/jovyan/MoleculeSTM/data/pretrained_MegaMolBART/checkpoints/iter_0134000/mp_rank_00/model_optim_rng.pt\n",
      "Loading from pretrained MegaMolBART (/home/jovyan/MoleculeSTM/data/pretrained_MegaMolBART/checkpoints).\n",
      "8.7265625 ,  -3.07421875\n",
      "9.8203125 ,  -3.607421875\n",
      "2.9296875 ,  -0.41259765625\n",
      "4.12109375 ,  -11.09375\n",
      "Mol-text pre-trained weights loaded....\n"
     ]
    }
   ],
   "source": [
    "import sys \n",
    "sys.path.append(\"/home/jovyan/MoleculeSTM\")\n",
    "from MoleculeSTM.models.mega_molbart.mega_mol_bart import MegaMolBART\n",
    "from model_zoo import MLP\n",
    "import torch.nn as nn\n",
    "import torch.nn.functional as F\n",
    "import torch\n",
    "from tqdm import tqdm\n",
    "import math\n",
    "from rdkit.Chem import AllChem, Descriptors\n",
    "sys.path.append(\"/home/jovyan/prompts_learning/KPGT/src/data\")\n",
    "from featurizer import smiles_to_graph\n",
    "import dgl\n",
    "from KPGT.src.data.descriptors.rdNormalizedDescriptors import RDKit2DNormalized\n",
    "st = torch.get_rng_state()\n",
    "torch.set_rng_state(st)\n",
    "\n",
    "def preprocess_batch_light(batch_num, batch_num_target, tensor_data):\n",
    "    batch_num = np.concatenate([[0],batch_num],axis=-1)\n",
    "    cs_num = np.cumsum(batch_num)\n",
    "    add_factors = np.concatenate([[cs_num[i]]*batch_num_target[i] for i in range(len(cs_num)-1)], axis=-1)\n",
    "    return tensor_data + torch.from_numpy(add_factors).reshape(-1,1)\n",
    "\n",
    "\n",
    "vocab_path = \"/home/jovyan/MoleculeSTM/MoleculeSTM/bart_vocab.txt\"\n",
    "MegaMolBART_generation_model_dir=\"/home/jovyan/MoleculeSTM/data/pretrained_MegaMolBART/checkpoints\"\n",
    "MegaMolBART_wrapper = MegaMolBART(vocab_path=vocab_path, input_dir=MegaMolBART_generation_model_dir, output_dir=None)\n",
    "molecule_model = MegaMolBART_wrapper.model\n",
    "print(\"Loading from pretrained MegaMolBART ({}).\".format(MegaMolBART_generation_model_dir))\n",
    "molecule_dim_generation = 256\n",
    "\n",
    "device = \"cuda\" if torch.cuda.is_available() else \"cpu\"\n",
    "from KPGT.src.data.featurizer import Vocab, N_BOND_TYPES, N_ATOM_TYPES\n",
    "from KPGT.src.data.collator_tune import Collator_pretrain\n",
    "from KPGT.src.model_config import config_dict\n",
    "config = config_dict['base']\n",
    "from pharmabench_pipeline import PharmaBenchDataset\n",
    "from KPGT.src.data.featurizer import Vocab, N_BOND_TYPES, N_ATOM_TYPES\n",
    "from KPGT.src.data.collator_tune import Collator_pretrain\n",
    "from KPGT.src.model_config import config_dict\n",
    "config = config_dict['base']\n",
    "\n",
    "vocab = Vocab(N_ATOM_TYPES, N_BOND_TYPES)\n",
    "collator = Collator_pretrain(vocab, max_length=config['path_length'], n_virtual_nodes=2, candi_rate=config['candi_rate'], fp_disturb_rate=config['fp_disturb_rate'], md_disturb_rate=config['md_disturb_rate'])\n",
    "\n",
    "task_mode = \"regression\"\n",
    "task_name = \"logd_reg\"\n",
    "train_dataset = PharmaBenchDataset(task_name, mode=\"train\")\n",
    "from KPGT.src.model.light import LiGhTPredictor as LiGhT\n",
    "kpgt = LiGhT(\n",
    "        d_node_feats=config['d_node_feats'],\n",
    "        d_edge_feats=config['d_edge_feats'],\n",
    "        d_g_feats=config['d_g_feats'],\n",
    "        d_fp_feats=train_dataset.d_fps,\n",
    "        d_md_feats=train_dataset.d_mds,\n",
    "        d_hpath_ratio=config['d_hpath_ratio'],\n",
    "        n_mol_layers=config['n_mol_layers'],\n",
    "        path_length=config['path_length'],\n",
    "        n_heads=config['n_heads'],\n",
    "        n_ffn_dense_layers=config['n_ffn_dense_layers'],\n",
    "        input_drop=0.0,\n",
    "        attn_drop=0.,\n",
    "        feat_drop=0.,\n",
    "        n_node_types=vocab.vocab_size\n",
    "    )# .to(\"cuda\")\n",
    "\n",
    "from model_zoo import MMPL_Finetune_Model\n",
    "model = MMPL_Finetune_Model(kpgt).to(device)\n",
    "model.eval()\n",
    "\n",
    "# ckpt = \"/home/jovyan/prompts_learning/ft_weight/logd_reg_Epoch110_val_mae_0.40885_rmse_0.60321.pth\"\n",
    "# ckpt = \"/home/jovyan/prompts_learning/ft_weight/ppb_reg_Epoch105_val_mae_0.07918_rmse_0.15615.pth\"\n",
    "# ckpt = \"/home/jovyan/prompts_learning/ft_weight/cyp_3a4_reg_Epoch170_val_mae_7.85259_rmse_15.68281.pth\"\n",
    "# ckpt = \"/home/jovyan/prompts_learning/trained_weight/hum_mic_cl_reg_Epoch160_val_mae_0.34435_mse_0.4634.pth\"\n",
    "# ckpt = \"/home/jovyan/prompts_learning/ft_weight/bbb_cls_Epoch4_val_auc_0.93345_acc_0.89513.pth\"\n",
    "ckpt = \"/home/jovyan/prompts_learning/ft_weight/water_sol_reg_Epoch102_val_mae_0.57307_rmse_0.86905.pth\"\n",
    "model.load_state_dict(torch.load(ckpt))\n",
    "\n",
    "class MLP(nn.Module):\n",
    "    def __init__(self, embed_dim=256, end=768):\n",
    "        super().__init__()\n",
    "        \n",
    "        # self.fc1 = nn.Linear(embed_dim,end)\n",
    "        # self.act = nn.GELU()\n",
    "        # self.fc2 = nn.Linear(end, end)\n",
    "        \n",
    "        self.fc1 = nn.Linear(embed_dim,embed_dim*4)\n",
    "        self.act = nn.GELU()\n",
    "        self.fc2 = nn.Linear(embed_dim*4, end)\n",
    "        \n",
    "    def forward(self, x):\n",
    "        x = self.fc1(x)\n",
    "        x = self.act(x)\n",
    "        x = self.fc2(x)\n",
    "        return x\n",
    "    \n",
    "def mean_pooling(token_embeddings, attention_mask):\n",
    "    attention_mask = ~attention_mask\n",
    "    input_mask_expanded = attention_mask.unsqueeze(-1).expand(token_embeddings.size()).float() # [pad, B, d]\n",
    "    sum_embeddings = torch.sum(token_embeddings * input_mask_expanded, 0) # [B, d]\n",
    "    sum_mask = torch.clamp(input_mask_expanded.sum(0), min=1e-9) # [B, d]\n",
    "    return sum_embeddings / sum_mask\n",
    "\n",
    "\n",
    "generation2MMPL = MLP(molecule_dim_generation, 768).to(device)\n",
    "# generation2MMPL = nn.Linear(molecule_dim_generation, 768).to(device)\n",
    "\n",
    "\n",
    "\n",
    "import numpy as np\n",
    "from multiprocessing import Pool\n",
    "from rdkit import Chem\n",
    "from scipy import sparse as sp\n",
    "def preprocess_smi_for_kpgt(smiles, n_jobs=1):\n",
    "    # print('extracting fingerprints')\n",
    "    FP_list = []\n",
    "    mol = Chem.MolFromSmiles(smiles)\n",
    "    FP_list.append(list(Chem.RDKFingerprint(mol, minPath=1, maxPath=7, fpSize=512)))\n",
    "    FP_arr = np.array(FP_list)\n",
    "    fp = sp.csc_matrix(FP_arr)\n",
    "    # print('finish fingerprints')\n",
    "\n",
    "    # print('extracting molecular descriptors')\n",
    "    generator = RDKit2DNormalized()\n",
    "    features_map = Pool(n_jobs).imap(generator.process, [smiles])\n",
    "    arr = np.array(list(features_map))\n",
    "    md = arr[:,1:]\n",
    "    return fp, md\n",
    "\n",
    "def clip_loss_for_edit(molecule_repr, text_repr):\n",
    "    molecule_repr = F.normalize(molecule_repr, dim=-1)\n",
    "    text_repr = F.normalize(text_repr, dim=-1)\n",
    "\n",
    "    similarity = -torch.mm(molecule_repr, text_repr.transpose(0, 1))[0]\n",
    "    return similarity\n",
    "\n",
    "\n",
    "def get_lr(t, initial_lr, rampdown=0.25, rampup=0.05):\n",
    "    lr_ramp = min(1, (1 - t) / rampdown)\n",
    "    lr_ramp = 0.5 - 0.5 * math.cos(lr_ramp * math.pi)\n",
    "    lr_ramp = lr_ramp * min(1, t / rampup)\n",
    "    return initial_lr * lr_ramp\n",
    "\n",
    "def evaluate_SMILES_list(SMILES_list, description):\n",
    "    print(\"SMILES_list:\", SMILES_list)\n",
    "    mol_list = []\n",
    "    for SMILES in SMILES_list:\n",
    "        mol = Chem.MolFromSmiles(SMILES)\n",
    "        if mol is None:\n",
    "            continue\n",
    "        mol_list.append(mol)\n",
    "\n",
    "    if len(mol_list) < 3:\n",
    "        return [False]\n",
    "\n",
    "    # if \"soluble\" in description and \"insoluble\" not in description:\n",
    "    props = [\"MolLogP\"]\n",
    "    prop_pred = [(n, func) for n, func in Descriptors.descList if n.split(\"_\")[-1] in props]\n",
    "    print(prop_pred)\n",
    "    value_list = []\n",
    "    for name, func in prop_pred:\n",
    "        for idx, (SMILES, mol) in enumerate(zip(SMILES_list, mol_list)):\n",
    "            if idx == 1:\n",
    "                continue\n",
    "            value = func(mol)\n",
    "            value_list.append(value)\n",
    "            print(\"SMILES: {}\\t\\t\\tlogP: {:.5f}\".format(SMILES, value))\n",
    "            \n",
    "            fps, mds = preprocess_smi_for_kpgt(SMILES)\n",
    "            fps = torch.from_numpy(fps.todense().astype(np.float32))\n",
    "            mds = torch.from_numpy(np.where(np.isnan(mds.astype(np.float32)), 0, mds))\n",
    "            graphs = smiles_to_graph(SMILES, vocab, max_length=config['path_length'], n_virtual_nodes=2, add_self_loop=True)\n",
    "            batched_graph = dgl.batch([graphs])\n",
    "            mds = torch.stack([mds], dim=0).reshape(len([SMILES]),-1).float()\n",
    "            fps = torch.stack([fps], dim=0).reshape(len([SMILES]),-1).float()\n",
    "            batched_graph.edata['path'][:, :] = preprocess_batch_light(batched_graph.batch_num_nodes(), batched_graph.batch_num_edges(), batched_graph.edata['path'][:, :])\n",
    "            batched_graph = batched_graph.to(device)\n",
    "\n",
    "            with torch.no_grad():\n",
    "                pred = model([batched_graph, fps.cuda(), mds.cuda()])\n",
    "                max_v, min_v = 10.141333333333334, -9.2177\n",
    "                edi_sol = (pred + 1.) / 2. * (max_v - min_v) + min_v\n",
    "            print(\"After edit: \", edi_sol[0, 0].cpu().numpy())\n",
    "    # if value_list[0] > value_list[-1]:\n",
    "    #     answer = [True]\n",
    "    # else:\n",
    "    #     answer = [False]\n",
    "    answer = True\n",
    "    return answer\n",
    "\n",
    "\n",
    "\n"
   ]
  },
  {
   "cell_type": "code",
   "execution_count": 2,
   "id": "da601fc0-4d48-4063-a506-dba40eead93b",
   "metadata": {
    "tags": []
   },
   "outputs": [],
   "source": [
    "SMILES=\"C#CC(C)(O)CC\"\n",
    "# SMILES=\"OC[C@H]1O[C@@H](n2cnc3c(NC4CCCC4)nc(Cl)nc32)[C@H](O)[C@@H]1O\"\n",
    "fps, mds = preprocess_smi_for_kpgt(SMILES)\n",
    "fps = torch.from_numpy(fps.todense().astype(np.float32))\n",
    "mds = torch.from_numpy(np.where(np.isnan(mds.astype(np.float32)), 0, mds))\n",
    "graphs = smiles_to_graph(SMILES, vocab, max_length=config['path_length'], n_virtual_nodes=2, add_self_loop=True)\n",
    "batched_graph = dgl.batch([graphs])\n",
    "mds = torch.stack([mds], dim=0).reshape(len([SMILES]),-1).float()\n",
    "fps = torch.stack([fps], dim=0).reshape(len([SMILES]),-1).float()\n",
    "batched_graph.edata['path'][:, :] = preprocess_batch_light(batched_graph.batch_num_nodes(), batched_graph.batch_num_edges(), batched_graph.edata['path'][:, :])\n",
    "batched_graph = batched_graph.to(device)\n",
    "mmpl_repre = model.mol_encoder.edit_forward([batched_graph, fps.cuda(), mds.cuda()])\n",
    "# latent_code_ref, pad_mask_init = MegaMolBART_wrapper.smileslist2embedding([SMILES])"
   ]
  },
  {
   "cell_type": "code",
   "execution_count": 136,
   "id": "0c1703e7-1910-469f-9b8e-e72df98c9b43",
   "metadata": {
    "tags": []
   },
   "outputs": [
    {
     "name": "stderr",
     "output_type": "stream",
     "text": [
      "WARNING:MoleculeSTM.models.mega_molbart.mega_mol_bart:WARNING: MOLECULE VALIDATION AND SANITIZATION CURRENTLY DISABLED\n"
     ]
    },
    {
     "name": "stdout",
     "output_type": "stream",
     "text": [
      "Use random noise for init\n",
      "l2 lambda: 0.001\n",
      "Use random noise for init\n",
      "Learning rate of latent: 5e-06\n"
     ]
    },
    {
     "name": "stderr",
     "output_type": "stream",
     "text": [
      "100%|██████████| 30/30 [00:00<00:00, 30.32it/s]\n"
     ]
    },
    {
     "name": "stdout",
     "output_type": "stream",
     "text": [
      "clip loss: -0.99807\tL2 loss: 0.00001\tAlign loss: 0.08524\n"
     ]
    },
    {
     "name": "stderr",
     "output_type": "stream",
     "text": [
      "WARNING:MoleculeSTM.models.mega_molbart.mega_mol_bart:WARNING: MOLECULE VALIDATION AND SANITIZATION CURRENTLY DISABLED\n"
     ]
    },
    {
     "name": "stdout",
     "output_type": "stream",
     "text": [
      "SMILES_list: ['O=C1c2ccccc2Cc2ccccc2N1CCF', 'O=c1cc2c(cc3ccccc13)NCCN2CCF', 'c1cccc2c1Cc(c1ccccc1)C(=O)N2CCF']\n",
      "\n",
      "l2 lambda: 0.001\n",
      "Use random noise for init\n",
      "Learning rate of latent: 5e-06\n"
     ]
    },
    {
     "name": "stderr",
     "output_type": "stream",
     "text": [
      "100%|██████████| 30/30 [00:01<00:00, 28.95it/s]\n"
     ]
    },
    {
     "name": "stdout",
     "output_type": "stream",
     "text": [
      "clip loss: -0.99880\tL2 loss: 0.00001\tAlign loss: 0.08572\n"
     ]
    },
    {
     "name": "stderr",
     "output_type": "stream",
     "text": [
      "WARNING:MoleculeSTM.models.mega_molbart.mega_mol_bart:WARNING: MOLECULE VALIDATION AND SANITIZATION CURRENTLY DISABLED\n"
     ]
    },
    {
     "name": "stdout",
     "output_type": "stream",
     "text": [
      "SMILES_list: ['O=C1c2ccccc2Cc2ccccc2N1CCF', 'O=c1cc2c(cc3ccccc13)NCCN2CCF', 'O=C1c2ccccc2Cc2ccccc2N1CCF']\n",
      "[('MolLogP', <function <lambda> at 0x7f8d1afeb8b0>)]\n",
      "SMILES: O=C1c2ccccc2Cc2ccccc2N1CCF\t\t\tlogP: 3.20710\n",
      "After edit:  4.5872145\n",
      "SMILES: O=C1c2ccccc2Cc2ccccc2N1CCF\t\t\tlogP: 3.20710\n",
      "After edit:  4.5872145\n",
      "\n",
      "l2 lambda: 0.001\n",
      "Use random noise for init\n",
      "Learning rate of latent: 5e-06\n"
     ]
    },
    {
     "name": "stderr",
     "output_type": "stream",
     "text": [
      "100%|██████████| 30/30 [00:00<00:00, 30.69it/s]\n"
     ]
    },
    {
     "name": "stdout",
     "output_type": "stream",
     "text": [
      "clip loss: -0.99860\tL2 loss: 0.00001\tAlign loss: 0.08549\n"
     ]
    },
    {
     "name": "stderr",
     "output_type": "stream",
     "text": [
      "WARNING:MoleculeSTM.models.mega_molbart.mega_mol_bart:WARNING: MOLECULE VALIDATION AND SANITIZATION CURRENTLY DISABLED\n"
     ]
    },
    {
     "name": "stdout",
     "output_type": "stream",
     "text": [
      "SMILES_list: ['O=C1c2ccccc2Cc2ccccc2N1CCF', 'O=c1cc2c(cc3ccccc13)NCCN2CCF', 'c1cccc2c(c1)Cc(CN1c3c(cccc3)N(CCF)CC1=O)C2']\n",
      "\n",
      "l2 lambda: 0.0001\n",
      "Use random noise for init\n",
      "Learning rate of latent: 5e-06\n"
     ]
    },
    {
     "name": "stderr",
     "output_type": "stream",
     "text": [
      "100%|██████████| 30/30 [00:01<00:00, 28.76it/s]\n"
     ]
    },
    {
     "name": "stdout",
     "output_type": "stream",
     "text": [
      "clip loss: -0.99858\tL2 loss: 0.00000\tAlign loss: 0.08547\n"
     ]
    },
    {
     "name": "stderr",
     "output_type": "stream",
     "text": [
      "WARNING:MoleculeSTM.models.mega_molbart.mega_mol_bart:WARNING: MOLECULE VALIDATION AND SANITIZATION CURRENTLY DISABLED\n"
     ]
    },
    {
     "name": "stdout",
     "output_type": "stream",
     "text": [
      "SMILES_list: ['O=C1c2ccccc2Cc2ccccc2N1CCF', 'O=c1cc2c(cc3ccccc13)NCCN2CCF', 'O=c1c2ccccc2c2ccccc2n1CCF']\n",
      "[('MolLogP', <function <lambda> at 0x7f8d1afeb8b0>)]\n",
      "SMILES: O=C1c2ccccc2Cc2ccccc2N1CCF\t\t\tlogP: 3.20710\n",
      "After edit:  4.5872145\n",
      "SMILES: O=c1c2ccccc2c2ccccc2n1CCF\t\t\tlogP: 3.12420\n",
      "After edit:  4.6678867\n",
      "\n",
      "l2 lambda: 1e-05\n",
      "Use random noise for init\n",
      "Learning rate of latent: 5e-06\n"
     ]
    },
    {
     "name": "stderr",
     "output_type": "stream",
     "text": [
      "100%|██████████| 30/30 [00:00<00:00, 30.78it/s]\n"
     ]
    },
    {
     "name": "stdout",
     "output_type": "stream",
     "text": [
      "clip loss: -0.99859\tL2 loss: 0.00000\tAlign loss: 0.08548\n"
     ]
    },
    {
     "name": "stderr",
     "output_type": "stream",
     "text": [
      "WARNING:MoleculeSTM.models.mega_molbart.mega_mol_bart:WARNING: MOLECULE VALIDATION AND SANITIZATION CURRENTLY DISABLED\n"
     ]
    },
    {
     "name": "stdout",
     "output_type": "stream",
     "text": [
      "SMILES_list: ['O=C1c2ccccc2Cc2ccccc2N1CCF', 'O=c1cc2c(cc3ccccc13)NCCN2CCF', 'O=c1c2ccccc2c2ccccc2n1CCF']\n",
      "[('MolLogP', <function <lambda> at 0x7f8d1afeb8b0>)]\n",
      "SMILES: O=C1c2ccccc2Cc2ccccc2N1CCF\t\t\tlogP: 3.20710\n",
      "After edit:  4.5872145\n",
      "SMILES: O=c1c2ccccc2c2ccccc2n1CCF\t\t\tlogP: 3.12420\n",
      "After edit:  4.6678867\n",
      "\n",
      "l2 lambda: 0\n",
      "Use random noise for init\n",
      "Learning rate of latent: 5e-06\n"
     ]
    },
    {
     "name": "stderr",
     "output_type": "stream",
     "text": [
      "100%|██████████| 30/30 [00:00<00:00, 31.06it/s]\n"
     ]
    },
    {
     "name": "stdout",
     "output_type": "stream",
     "text": [
      "clip loss: -0.99860\tL2 loss: 0.00000\tAlign loss: 0.08549\n"
     ]
    },
    {
     "name": "stderr",
     "output_type": "stream",
     "text": [
      "WARNING:MoleculeSTM.models.mega_molbart.mega_mol_bart:WARNING: MOLECULE VALIDATION AND SANITIZATION CURRENTLY DISABLED\n"
     ]
    },
    {
     "name": "stdout",
     "output_type": "stream",
     "text": [
      "SMILES_list: ['O=C1c2ccccc2Cc2ccccc2N1CCF', 'O=c1cc2c(cc3ccccc13)NCCN2CCF', 'FCCNc1ccccc1C=C1c2ccccc2N1CCF']\n",
      "[('MolLogP', <function <lambda> at 0x7f8d1afeb8b0>)]\n",
      "SMILES: O=C1c2ccccc2Cc2ccccc2N1CCF\t\t\tlogP: 3.20710\n",
      "After edit:  4.5872145\n",
      "SMILES: FCCNc1ccccc1C=C1c2ccccc2N1CCF\t\t\tlogP: 4.35560\n",
      "After edit:  4.338152\n",
      "\n",
      "l2 lambda: 0\n",
      "Use random noise for init\n",
      "Learning rate of latent: 5e-06\n"
     ]
    },
    {
     "name": "stderr",
     "output_type": "stream",
     "text": [
      "100%|██████████| 30/30 [00:00<00:00, 30.90it/s]\n"
     ]
    },
    {
     "name": "stdout",
     "output_type": "stream",
     "text": [
      "clip loss: -0.99860\tL2 loss: 0.00000\tAlign loss: 0.08549\n"
     ]
    },
    {
     "name": "stderr",
     "output_type": "stream",
     "text": [
      "WARNING:MoleculeSTM.models.mega_molbart.mega_mol_bart:WARNING: MOLECULE VALIDATION AND SANITIZATION CURRENTLY DISABLED\n"
     ]
    },
    {
     "name": "stdout",
     "output_type": "stream",
     "text": [
      "SMILES_list: ['O=C1c2ccccc2Cc2ccccc2N1CCF', 'O=c1cc2c(cc3ccccc13)NCCN2CCF', 'O=c1c2ccccc2c2ccccc2n1CCF']\n",
      "[('MolLogP', <function <lambda> at 0x7f8d1afeb8b0>)]\n",
      "SMILES: O=C1c2ccccc2Cc2ccccc2N1CCF\t\t\tlogP: 3.20710\n",
      "After edit:  4.5872145\n",
      "SMILES: O=c1c2ccccc2c2ccccc2n1CCF\t\t\tlogP: 3.12420\n",
      "After edit:  4.6678867\n",
      "\n",
      "l2 lambda: 0\n",
      "Use random noise for init\n",
      "Learning rate of latent: 5e-06\n"
     ]
    },
    {
     "name": "stderr",
     "output_type": "stream",
     "text": [
      "100%|██████████| 30/30 [00:00<00:00, 30.79it/s]\n"
     ]
    },
    {
     "name": "stdout",
     "output_type": "stream",
     "text": [
      "clip loss: -0.99861\tL2 loss: 0.00000\tAlign loss: 0.08550\n"
     ]
    },
    {
     "name": "stderr",
     "output_type": "stream",
     "text": [
      "WARNING:MoleculeSTM.models.mega_molbart.mega_mol_bart:WARNING: MOLECULE VALIDATION AND SANITIZATION CURRENTLY DISABLED\n"
     ]
    },
    {
     "name": "stdout",
     "output_type": "stream",
     "text": [
      "SMILES_list: ['O=C1c2ccccc2Cc2ccccc2N1CCF', 'O=c1cc2c(cc3ccccc13)NCCN2CCF', 'c1cccc2c1Cc1c(ccc1)N(CCF)C(=O)N2CCF']\n",
      "\n",
      "l2 lambda: 0\n",
      "Use random noise for init\n",
      "Learning rate of latent: 5e-06\n"
     ]
    },
    {
     "name": "stderr",
     "output_type": "stream",
     "text": [
      "100%|██████████| 30/30 [00:00<00:00, 30.48it/s]\n"
     ]
    },
    {
     "name": "stdout",
     "output_type": "stream",
     "text": [
      "clip loss: -0.99860\tL2 loss: 0.00000\tAlign loss: 0.08549\n"
     ]
    },
    {
     "name": "stderr",
     "output_type": "stream",
     "text": [
      "WARNING:MoleculeSTM.models.mega_molbart.mega_mol_bart:WARNING: MOLECULE VALIDATION AND SANITIZATION CURRENTLY DISABLED\n"
     ]
    },
    {
     "name": "stdout",
     "output_type": "stream",
     "text": [
      "SMILES_list: ['O=C1c2ccccc2Cc2ccccc2N1CCF', 'O=c1cc2c(cc3ccccc13)NCCN2CCF', 'O=C1CN(CCF)c2ccccc2Cc2ccccc21']\n",
      "[('MolLogP', <function <lambda> at 0x7f8d1afeb8b0>)]\n",
      "SMILES: O=C1c2ccccc2Cc2ccccc2N1CCF\t\t\tlogP: 3.20710\n",
      "After edit:  4.5872145\n",
      "SMILES: O=C1CN(CCF)c2ccccc2Cc2ccccc21\t\t\tlogP: 3.24960\n",
      "After edit:  4.869582\n",
      "\n",
      "l2 lambda: 0\n",
      "Use random noise for init\n",
      "Learning rate of latent: 5e-06\n"
     ]
    },
    {
     "name": "stderr",
     "output_type": "stream",
     "text": [
      "100%|██████████| 30/30 [00:00<00:00, 30.42it/s]\n"
     ]
    },
    {
     "name": "stdout",
     "output_type": "stream",
     "text": [
      "clip loss: -0.99861\tL2 loss: 0.00000\tAlign loss: 0.08550\n"
     ]
    },
    {
     "name": "stderr",
     "output_type": "stream",
     "text": [
      "WARNING:MoleculeSTM.models.mega_molbart.mega_mol_bart:WARNING: MOLECULE VALIDATION AND SANITIZATION CURRENTLY DISABLED\n"
     ]
    },
    {
     "name": "stdout",
     "output_type": "stream",
     "text": [
      "SMILES_list: ['O=C1c2ccccc2Cc2ccccc2N1CCF', 'O=c1cc2c(cc3ccccc13)NCCN2CCF', 'O=C1Cc2ccccc2Cc2ccccc2N1CCF']\n",
      "[('MolLogP', <function <lambda> at 0x7f8d1afeb8b0>)]\n",
      "SMILES: O=C1c2ccccc2Cc2ccccc2N1CCF\t\t\tlogP: 3.20710\n",
      "After edit:  4.5872145\n",
      "SMILES: O=C1Cc2ccccc2Cc2ccccc2N1CCF\t\t\tlogP: 3.13600\n",
      "After edit:  4.831189\n",
      "\n"
     ]
    },
    {
     "ename": "ValueError",
     "evalue": "setting an array element with a sequence. The requested array has an inhomogeneous shape after 1 dimensions. The detected shape was (10,) + inhomogeneous part.",
     "output_type": "error",
     "traceback": [
      "\u001b[0;31m---------------------------------------------------------------------------\u001b[0m",
      "\u001b[0;31mValueError\u001b[0m                                Traceback (most recent call last)",
      "Cell \u001b[0;32mIn[136], line 116\u001b[0m\n\u001b[1;32m    113\u001b[0m     result_eval_list_one_pair\u001b[38;5;241m.\u001b[39mappend(current_result_list)\n\u001b[1;32m    114\u001b[0m     \u001b[38;5;28mprint\u001b[39m()\n\u001b[0;32m--> 116\u001b[0m result_eval_list_one_pair \u001b[38;5;241m=\u001b[39m \u001b[43mnp\u001b[49m\u001b[38;5;241;43m.\u001b[39;49m\u001b[43marray\u001b[49m\u001b[43m(\u001b[49m\u001b[43mresult_eval_list_one_pair\u001b[49m\u001b[43m)\u001b[49m\n\u001b[1;32m    117\u001b[0m result_eval_list_one_pair \u001b[38;5;241m=\u001b[39m np\u001b[38;5;241m.\u001b[39many(result_eval_list_one_pair, axis\u001b[38;5;241m=\u001b[39m\u001b[38;5;241m0\u001b[39m, keepdims\u001b[38;5;241m=\u001b[39m\u001b[38;5;28;01mTrue\u001b[39;00m)\n",
      "\u001b[0;31mValueError\u001b[0m: setting an array element with a sequence. The requested array has an inhomogeneous shape after 1 dimensions. The detected shape was (10,) + inhomogeneous part."
     ]
    }
   ],
   "source": [
    "text = \"This molecule is soluble in water.\" #  This molecule is insoluble in water.\" \n",
    "text_repr = model.text_proc.edit_forward(text)\n",
    "\n",
    "SMILES=\"O=C1c2ccccc2Cc2ccccc2N1CCF\"\n",
    "\n",
    "fps, mds = preprocess_smi_for_kpgt(SMILES)\n",
    "fps = torch.from_numpy(fps.todense().astype(np.float32))\n",
    "mds = torch.from_numpy(np.where(np.isnan(mds.astype(np.float32)), 0, mds))\n",
    "graphs = smiles_to_graph(SMILES, vocab, max_length=config['path_length'], n_virtual_nodes=2, add_self_loop=True)\n",
    "batched_graph = dgl.batch([graphs])\n",
    "mds = torch.stack([mds], dim=0).reshape(len([SMILES]),-1).float()\n",
    "fps = torch.stack([fps], dim=0).reshape(len([SMILES]),-1).float()\n",
    "batched_graph.edata['path'][:, :] = preprocess_batch_light(batched_graph.batch_num_nodes(), batched_graph.batch_num_edges(), batched_graph.edata['path'][:, :])\n",
    "batched_graph = batched_graph.to(device)\n",
    "mmpl_repre = model.mol_encoder.edit_forward([batched_graph, fps.cuda(), mds.cuda()])\n",
    "    \n",
    "first_and_second_SMILES_list = []\n",
    "\n",
    "latent_code_init, pad_mask_init = MegaMolBART_wrapper.smileslist2embedding([SMILES])  # [pad, B, d], [pad, B]\n",
    "first_and_second_SMILES_list.append(SMILES)\n",
    "\n",
    "regenerated_mols = MegaMolBART_wrapper.inverse_transform([latent_code_init], pad_mask_init.bool().cuda(), k=1, sanitize=True)\n",
    "first_and_second_SMILES_list.append(regenerated_mols[0])\n",
    "\n",
    "l2_lambda_list = [1e0, 0., 0.1, 0.01]\n",
    "# l2_lambda_list = [0.1, 0.01, 1e-3, 1e-4, 1e-5, 1e-6, 0.]\n",
    "l2_lambda_list = [0.001, 0.001, 1e-3, 1e-4, 1e-5, 0, 0, 0, 0 ,0]\n",
    "# l2_lambda_list = [0, 0, 0, 1e-7, 1e-6, 1e-5, 1e-4, 1e-3, 1e-2, 1e-1]\n",
    "# l2_lambda_list = [0, 0, 0, 0., 0., 0., 0., 0., 0., 0, 0]\n",
    "# l2_lambda_list = [1e-4, 1e-4, 1e-4, 1e-4,1e-4]\n",
    "# l2_lambda_list = [1e-3, 1e-4, 1e-5, 1e-6, 1e-8]\n",
    "result_SMILES_list_one_pair, result_eval_list_one_pair = [], []\n",
    "\n",
    "use_noise_for_init = True\n",
    "# use_noise_for_init = False\n",
    "verbose = True\n",
    "epochs = 30\n",
    "# normalize = True\n",
    "normalize = False\n",
    "wd = 0.\n",
    "lr = 5e-6\n",
    "\n",
    "# seed = 10\n",
    "# seed = 1024\n",
    "# # seed = 979\n",
    "# torch.manual_seed(seed)\n",
    "# np.random.seed(seed)\n",
    "# torch.cuda.manual_seed(seed)\n",
    "\n",
    "if use_noise_for_init:\n",
    "        print(\"Use random noise for init\")\n",
    "        random_noise = torch.randn(latent_code_init.size()).to(device)\n",
    "\n",
    "for l2_lambda in l2_lambda_list:\n",
    "    print(\"l2 lambda: {}\".format(l2_lambda))\n",
    "    current_SMILES_list = [first_and_second_SMILES_list[0]] + [first_and_second_SMILES_list[1]]\n",
    "    if use_noise_for_init:\n",
    "        print(\"Use random noise for init\")\n",
    "        # random_noise = torch.randn(latent_code_init.size()).to(device)\n",
    "        alpha = 0.1\n",
    "        # latent = latent_code_init.detach().clone() * (1. - alpha) + random_noise * alpha\n",
    "        latent = latent_code_init.detach().clone() + random_noise * alpha\n",
    "    else:\n",
    "        print(\"No random noise for init\")\n",
    "        latent = latent_code_init.detach().clone()\n",
    "    pad_mask = pad_mask_init.detach().clone()\n",
    "    latent.requires_grad = True\n",
    "    print(\"Learning rate of latent: {}\".format(lr))\n",
    "    model_params = [\n",
    "        {'params': latent, 'lr': lr, \"weight_decay\": wd},\n",
    "        {'params': generation2MMPL.parameters(), 'lr': 5e-5, \"weight_decay\": 1e-2},\n",
    "    ]\n",
    "    from adan import Adan\n",
    "    optimizer = Adan(model_params, betas=(0.98, 0.92, 0.99), max_grad_norm=5.)\n",
    "    # optimizer = Adan(model_params, betas=(0.97, 0.92, 0.95), max_grad_norm=5.)\n",
    "\n",
    "    if verbose:\n",
    "        L = tqdm(range(epochs))\n",
    "    else:\n",
    "        L = range(epochs)\n",
    "\n",
    "    for i in L:\n",
    "        t = i / epochs\n",
    "        # lr = get_lr(t, lr)\n",
    "        lr = lr * 1.\n",
    "        optimizer.param_groups[0][\"lr\"] = lr\n",
    "        # optimizer.param_groups[1][\"lr\"] = lr\n",
    "\n",
    "        molecule_repr_generation = mean_pooling(latent, pad_mask) # [B, d]\n",
    "        if normalize:\n",
    "            molecule_repr_generation = F.normalize(molecule_repr_generation, dim=-1)\n",
    "        molecule_repr_foundation = generation2MMPL(molecule_repr_generation)\n",
    "\n",
    "        clip_loss_ = clip_loss_for_edit(molecule_repr_foundation, text_repr)\n",
    "        l2_loss_ = l2_lambda * ((latent_code_init - latent) ** 2).mean()\n",
    "        align_loss_ = ((molecule_repr_foundation - mmpl_repre) ** 2).mean()\n",
    "        # l2_loss_ = l2_lambda * (torch.abs(latent_code_init - latent)).mean()\n",
    "        # align_loss_ = (torch.abs(molecule_repr_foundation - mmpl_repre)).mean()\n",
    "        # align_loss_ = clip_loss_for_edit(molecule_repr_foundation, mmpl_repre)\n",
    "\n",
    "        loss = 1. * clip_loss_ + .05 *l2_loss_ + 1. * align_loss_\n",
    "\n",
    "        optimizer.zero_grad()\n",
    "        loss.backward(retain_graph=True)\n",
    "        optimizer.step()\n",
    "    print(\"clip loss: {:.5f}\\tL2 loss: {:.5f}\\tAlign loss: {:.5f}\".format(clip_loss_.item(), l2_loss_.item(), align_loss_.item()))\n",
    "\n",
    "    generated_mols = MegaMolBART_wrapper.inverse_transform([latent], pad_mask.bool().cuda(), k=1, sanitize=True)\n",
    "    current_SMILES_list.append(generated_mols[0])\n",
    "    result_SMILES_list_one_pair.append([text] + current_SMILES_list + ['{}'.format(l2_lambda)])\n",
    "\n",
    "    current_result_list = evaluate_SMILES_list(current_SMILES_list, text)\n",
    "    result_eval_list_one_pair.append(current_result_list)\n",
    "    print()\n",
    "\n",
    "result_eval_list_one_pair = np.array(result_eval_list_one_pair)\n",
    "result_eval_list_one_pair = np.any(result_eval_list_one_pair, axis=0, keepdims=True)"
   ]
  },
  {
   "cell_type": "code",
   "execution_count": 3,
   "id": "ab32a510-abd6-41a1-982c-cd9cbcc75343",
   "metadata": {
    "tags": []
   },
   "outputs": [
    {
     "name": "stdout",
     "output_type": "stream",
     "text": [
      "CCNC(=O)C1=C2C=C(c3ccccc3Oc3ccccc3Cl)C(C(=O)NCC)=C2C(=O)N1\n",
      "O=C1CN(CCF)c2ccccc2Cc2ccccc21\n"
     ]
    }
   ],
   "source": [
    "from rdkit import Chem\n",
    "# ori_smi = SMILES \n",
    "ori_smi = \"CCNC(=O)C1=C2C=C(c3ccccc3Oc3ccccc3Cl)C(C(=O)NCC)=C2C(=O)N1\"\n",
    "edi_smi = \"O=C1CN(CCF)c2ccccc2Cc2ccccc21\"\n",
    "print(ori_smi)\n",
    "print(edi_smi)"
   ]
  },
  {
   "cell_type": "code",
   "execution_count": 4,
   "id": "dc61a214-4ab4-4364-b402-1e186b57ca8a",
   "metadata": {
    "tags": []
   },
   "outputs": [
    {
     "data": {
      "image/png": "[encoded data removed]",
      "text/plain": [
       "<rdkit.Chem.rdchem.Mol at 0x7f5b98a87f20>"
      ]
     },
     "execution_count": 4,
     "metadata": {},
     "output_type": "execute_result"
    }
   ],
   "source": [
    "Chem.MolFromSmiles(ori_smi)"
   ]
  },
  {
   "cell_type": "code",
   "execution_count": 139,
   "id": "4633abe8-6552-45c4-91a0-2f37cc93db60",
   "metadata": {
    "tags": []
   },
   "outputs": [
    {
     "data": {
      "image/png": "[encoded data removed]",
      "text/plain": [
       "<rdkit.Chem.rdchem.Mol at 0x7f8cffc7af20>"
      ]
     },
     "execution_count": 139,
     "metadata": {},
     "output_type": "execute_result"
    }
   ],
   "source": [
    "Chem.MolFromSmiles(\"CCNC(=O)C1=C2C=C(c3ccccc3Oc3ccccc3Cl)C(C(=O)NCC)=C2C(=O)N1\")"
   ]
  },
  {
   "cell_type": "code",
   "execution_count": 140,
   "id": "dff21d25-f0b1-4400-91d1-7158fa8ba339",
   "metadata": {
    "tags": []
   },
   "outputs": [
    {
     "name": "stdout",
     "output_type": "stream",
     "text": [
      "\n",
      "Original:  4.5872145\n",
      "After edit:  4.869582\n"
     ]
    }
   ],
   "source": [
    "\n",
    "\n",
    "# SMILES=ori_smi\n",
    "fps, mds = preprocess_smi_for_kpgt(ori_smi)\n",
    "fps = torch.from_numpy(fps.todense().astype(np.float32))\n",
    "mds = torch.from_numpy(np.where(np.isnan(mds.astype(np.float32)), 0, mds))\n",
    "graphs = smiles_to_graph(ori_smi, vocab, max_length=config['path_length'], n_virtual_nodes=2, add_self_loop=True)\n",
    "batched_graph = dgl.batch([graphs])\n",
    "mds = torch.stack([mds], dim=0).reshape(len([ori_smi]),-1).float()\n",
    "fps = torch.stack([fps], dim=0).reshape(len([ori_smi]),-1).float()\n",
    "batched_graph.edata['path'][:, :] = preprocess_batch_light(batched_graph.batch_num_nodes(), batched_graph.batch_num_edges(), batched_graph.edata['path'][:, :])\n",
    "batched_graph = batched_graph.to(device)\n",
    "model.eval()\n",
    "\n",
    "with torch.no_grad():\n",
    "    pred = model([batched_graph, fps.cuda(), mds.cuda()])\n",
    "    # ori_bbb = torch.sigmoid(pred)\n",
    "    max_v, min_v = 10.141333333333334, -9.2177\n",
    "    ori_sol = (pred + 1.) / 2. * (max_v - min_v) + min_v\n",
    "    \n",
    "    \n",
    "# SMILES=edi_smi\n",
    "fps, mds = preprocess_smi_for_kpgt(edi_smi)\n",
    "fps = torch.from_numpy(fps.todense().astype(np.float32))\n",
    "mds = torch.from_numpy(np.where(np.isnan(mds.astype(np.float32)), 0, mds))\n",
    "graphs = smiles_to_graph(edi_smi, vocab, max_length=config['path_length'], n_virtual_nodes=2, add_self_loop=True)\n",
    "batched_graph = dgl.batch([graphs])\n",
    "mds = torch.stack([mds], dim=0).reshape(len([edi_smi]),-1).float()\n",
    "fps = torch.stack([fps], dim=0).reshape(len([edi_smi]),-1).float()\n",
    "batched_graph.edata['path'][:, :] = preprocess_batch_light(batched_graph.batch_num_nodes(), batched_graph.batch_num_edges(), batched_graph.edata['path'][:, :])\n",
    "batched_graph = batched_graph.to(device)\n",
    "\n",
    "with torch.no_grad():\n",
    "    pred = model([batched_graph, fps.cuda(), mds.cuda()])\n",
    "    # edi_bbb = torch.sigmoid(pred)\n",
    "    max_v, min_v = 10.141333333333334, -9.2177\n",
    "    edi_sol = (pred + 1.) / 2. * (max_v - min_v) + min_v\n",
    "print()\n",
    "print(\"Original: \", ori_sol[0, 0].cpu().numpy())\n",
    "print(\"After edit: \", edi_sol[0, 0].cpu().numpy())"
   ]
  },
  {
   "cell_type": "code",
   "execution_count": null,
   "id": "13c2300f-5644-4acf-8392-fbab43078bdc",
   "metadata": {},
   "outputs": [],
   "source": []
  },
  {
   "cell_type": "code",
   "execution_count": null,
   "id": "07716fd2-c16b-4d49-80e7-fa4333c8206f",
   "metadata": {},
   "outputs": [],
   "source": []
  }
 ],
 "metadata": {
  "kernelspec": {
   "display_name": "fcb",
   "language": "python",
   "name": "fcb"
  },
  "language_info": {
   "codemirror_mode": {
    "name": "ipython",
    "version": 3
   },
   "file_extension": ".py",
   "mimetype": "text/x-python",
   "name": "python",
   "nbconvert_exporter": "python",
   "pygments_lexer": "ipython3",
   "version": "3.8.20"
  }
 },
 "nbformat": 4,
 "nbformat_minor": 5
}
